{
 "metadata": {
  "name": "",
  "signature": "sha256:9f3cf832b71ca2716a9ba424f65d2b9704a81cb77395aae5d4b0afc5f9f54d8d"
 },
 "nbformat": 3,
 "nbformat_minor": 0,
 "worksheets": [
  {
   "cells": [
    {
     "cell_type": "code",
     "collapsed": false,
     "input": [
      "%matplotlib inline\n",
      "%load_ext autoreload\n",
      "%autoreload 2\n",
      "\n",
      "import numpy as np\n",
      "import matplotlib.pyplot as plt\n",
      "import sympy as sy\n",
      "import math"
     ],
     "language": "python",
     "metadata": {},
     "outputs": [],
     "prompt_number": 1
    },
    {
     "cell_type": "markdown",
     "metadata": {},
     "source": [
      "#Bunge-Euler Legendre Polynomials"
     ]
    },
    {
     "cell_type": "code",
     "collapsed": false,
     "input": [
      "phi1, Phi, phi2, m, n, l = sy.Symbol('phi1'), sy.Symbol('Phi'), sy.Symbol('phi2'), sy.Symbol('m'), sy.Symbol('n'), sy.Symbol('l')"
     ],
     "language": "python",
     "metadata": {},
     "outputs": [],
     "prompt_number": 2
    },
    {
     "cell_type": "code",
     "collapsed": false,
     "input": [
      "def legendre(l, m, n, Phi):\n",
      "    norm1 = (((-1) ** (l - m) * np.complex(0, 1) ** (n - m)) / ((2. ** l) * math.factorial(l - m)))\n",
      "    norm2 = math.sqrt((math.factorial(l - m) * sy.factorial(l + n)) / (math.factorial(l + m) * math.factorial(l - n)))\n",
      "    poly1 = (1 - sy.cos(Phi)) ** (-(n - m) / 2.) * (1 + sy.cos(Phi)) ** (-(n + m) / 2.)\n",
      "    poly2 = sy.diff((1 - sy.cos(Phi)) ** (l-m) * (1 + sy.cos(Phi)) ** (l + m), sy.cos(Phi), (l - n))\n",
      "    return norm1 * norm2 * poly1 * poly2"
     ],
     "language": "python",
     "metadata": {},
     "outputs": [],
     "prompt_number": 3
    },
    {
     "cell_type": "markdown",
     "metadata": {},
     "source": [
      "# GSH Functions"
     ]
    },
    {
     "cell_type": "code",
     "collapsed": false,
     "input": [
      "def GSH(l, m, n, ph1, Phi, ph2):\n",
      "    lg = legendre(l, m, n, Phi)\n",
      "    return sy.exp(np.complex(0, 1) * m * phi1) * lg * sy.exp(np.complex(0, 1) * n * phi2)"
     ],
     "language": "python",
     "metadata": {},
     "outputs": [],
     "prompt_number": 4
    },
    {
     "cell_type": "markdown",
     "metadata": {},
     "source": [
      "#Cubic Symmetries"
     ]
    },
    {
     "cell_type": "code",
     "collapsed": false,
     "input": [
      "cubic_sym = np.zeros((3, 3, 2))\n",
      "cubic_sym[:,:,0] = [[ 1, 0, 0], [ 0, 1, 0], [ 0, 0, 1]] \n",
      "cubic_sym[:,:,1] = [[ 1, 0, 0], [ 0,-1, 0], [ 0, 0,-1]] \n",
      "# cubic_sym[:,:,2] = [[ 1, 0, 0], [ 0, 0,-1], [ 0, 1, 0]] \n",
      "# cubic_sym[:,:,3] = [[ 1, 0, 0], [ 0, 0, 1], [ 0,-1, 0]]\n",
      "# cubic_sym[:,:,4] = [[-1, 0, 0], [ 0, 1, 0], [ 0, 0,-1]] \n",
      "# cubic_sym[:,:,5] = [[-1, 0, 0], [ 0,-1, 0], [ 0, 0, 1]]\n",
      "# cubic_sym[:,:,6] = [[-1, 0, 0], [ 0, 0,-1], [ 0,-1, 0]] \n",
      "# cubic_sym[:,:,7] = [[-1, 0, 0], [ 0, 0, 1], [ 0, 1, 0]]\n",
      "# cubic_sym[:,:,8] = [[ 0, 1, 0], [-1, 0, 0], [ 0, 0, 1]]\n",
      "# cubic_sym[:,:,9] = [[ 0, 1, 0], [ 0, 0,-1], [-1, 0, 0]] \n",
      "# cubic_sym[:,:,10] =[[ 0, 1, 0], [ 1, 0, 0], [ 0, 0,-1]] \n",
      "# cubic_sym[:,:,11] =[[ 0, 1, 0], [ 0, 0, 1], [ 1, 0, 0]]\n",
      "# cubic_sym[:,:,12] =[[ 0,-1, 0], [ 1, 0, 0], [ 0, 0, 1]] \n",
      "# cubic_sym[:,:,13] =[[ 0,-1, 0], [ 0, 0,-1], [ 1, 0, 0]] \n",
      "# cubic_sym[:,:,14] =[[ 0,-1, 0], [-1, 0, 0], [ 0, 0,-1]]\n",
      "# cubic_sym[:,:,15] =[[ 0,-1, 0], [ 0, 0, 1], [-1, 0, 0]]\n",
      "# cubic_sym[:,:,16] =[[ 0, 0, 1], [ 0, 1, 0], [-1, 0, 0]] \n",
      "# cubic_sym[:,:,17] =[[ 0, 0, 1], [ 1, 0, 0], [ 0, 1, 0]] \n",
      "# cubic_sym[:,:,18] =[[ 0, 0, 1], [ 0,-1, 0], [ 1, 0, 0]] \n",
      "# cubic_sym[:,:,19] =[[ 0, 0, 1], [-1, 0, 0], [ 0,-1, 0]]\n",
      "# cubic_sym[:,:,20] =[[ 0, 0,-1], [ 0, 1, 0], [ 1, 0, 0]] \n",
      "# cubic_sym[:,:,21] =[[ 0, 0,-1], [-1, 0, 0], [ 0, 1, 0]]\n",
      "# cubic_sym[:,:,22] =[[ 0, 0,-1], [ 0,-1, 0], [-1, 0, 0]] \n",
      "# cubic_sym[:,:,23] =[[ 0, 0,-1], [ 1, 0, 0], [ 0,-1, 0]]"
     ],
     "language": "python",
     "metadata": {},
     "outputs": [],
     "prompt_number": 5
    },
    {
     "cell_type": "markdown",
     "metadata": {},
     "source": [
      "# Hexagonal Symmetries"
     ]
    },
    {
     "cell_type": "code",
     "collapsed": false,
     "input": [
      "a = np.sqrt(3) / 2\n",
      "# a = sy.Symbol('a')\n",
      "hcp_sym = np.zeros((3, 3, 12))\n",
      "hcp_sym[..., 0] = [[ 1, 0, 0], [ 0, 1, 0], [ 0, 0, 1]]\n",
      "hcp_sym[..., 1] = [[-.5, a, 0], [-a,-.5, 0], [ 0, 0, 1]]\n",
      "hcp_sym[..., 2] = [[-.5,-a, 0], [ a,-.5, 0], [ 0, 0, 1]]\n",
      "hcp_sym[..., 3] = [[.5, a, 0], [-a,.5, 0], [ 0, 0, 1]]\n",
      "hcp_sym[..., 4] = [[.5,-a, 0], [a, .5, 0], [ 0, 0, 1]]\n",
      "hcp_sym[..., 5] = [[-1, 0, 0], [ 0,-1, 0], [ 0, 0, 1]]\n",
      "hcp_sym[..., 6] = [[-.5,-a, 0], [-a, .5, 0], [ 0, 0,-1]]\n",
      "hcp_sym[..., 7] = [[ 1, 0, 0], [ 0,-1, 0], [ 0, 0,-1]]\n",
      "hcp_sym[..., 8] = [[-.5, a, 0], [ a, .5, 0], [ 0, 0,-1]]\n",
      "hcp_sym[..., 9] = [[ .5, a, 0], [ a,-.5, 0], [ 0, 0,-1]]\n",
      "hcp_sym[..., 10] = [[-1, 0, 0], [ 0, 1, 0], [ 0, 0,-1]]\n",
      "hcp_sym[..., 11] = [[ .5,-a, 0], [-a,-.5, 0], [ 0, 0,-1]]"
     ],
     "language": "python",
     "metadata": {},
     "outputs": [],
     "prompt_number": 6
    },
    {
     "cell_type": "markdown",
     "metadata": {},
     "source": [
      "#Tetragonal Symmetries"
     ]
    },
    {
     "cell_type": "code",
     "collapsed": false,
     "input": [
      "tetrag_sym = np.zeros((3, 3, 8))\n",
      "tetrag_sym[..., 0] = [[ 1, 0, 0], [ 0, 1, 0], [ 0, 0, 1]]\n",
      "tetrag_sym[..., 1] = [[-1, 0, 0], [ 0, 1, 0], [ 0, 0,-1]]\n",
      "tetrag_sym[..., 2] = [[ 1, 0, 0], [ 0,-1, 0], [ 0, 0,-1]]\n",
      "tetrag_sym[..., 3] = [[-1, 0, 0], [ 0,-1, 0], [ 0, 0, 1]]\n",
      "tetrag_sym[..., 4] = [[ 0, 1, 0], [-1, 0, 0], [ 0, 0, 1]]\n",
      "tetrag_sym[..., 5] = [[ 0,-1, 0], [ 1, 0, 0], [ 0, 0, 1]]\n",
      "tetrag_sym[..., 6] = [[ 0, 1, 0], [ 1, 0, 0], [ 0, 0,-1]]\n",
      "tetrag_sym[..., 7] = [[ 0,-1, 0], [-1, 0, 0], [ 0, 0,-1]]"
     ],
     "language": "python",
     "metadata": {},
     "outputs": [],
     "prompt_number": 7
    },
    {
     "cell_type": "markdown",
     "metadata": {},
     "source": [
      "#Orientation Matrix for Bungee-Euler Representations"
     ]
    },
    {
     "cell_type": "code",
     "collapsed": false,
     "input": [
      "orientation1 = sy.Matrix([[sy.cos(phi2), sy.sin(phi2), 0], [-sy.sin(phi2), sy.cos(phi2), 0], [0, 0, 1]])\n",
      "orientation2 = sy.Matrix([ [1, 0, 0], [0, sy.cos(Phi), sy.sin(Phi)], [0, -sy.sin(Phi), sy.cos(Phi)]])\n",
      "orientation3 = sy.Matrix([[sy.cos(phi1), sy.sin(phi1), 0], [-sy.sin(phi1), sy.cos(phi1), 0], [0, 0, 1]])\n",
      "\n",
      "orientaiton_matrix = orientation1 * orientation2 * orientation3\n",
      "print orientaiton_matrix"
     ],
     "language": "python",
     "metadata": {},
     "outputs": [
      {
       "output_type": "stream",
       "stream": "stdout",
       "text": [
        "Matrix([[-sin(phi1)*sin(phi2)*cos(Phi) + cos(phi1)*cos(phi2), sin(phi1)*cos(phi2) + sin(phi2)*cos(Phi)*cos(phi1), sin(Phi)*sin(phi2)], [-sin(phi1)*cos(Phi)*cos(phi2) - sin(phi2)*cos(phi1), -sin(phi1)*sin(phi2) + cos(Phi)*cos(phi1)*cos(phi2), sin(Phi)*cos(phi2)], [sin(Phi)*sin(phi1), -sin(Phi)*cos(phi1), cos(Phi)]])\n"
       ]
      }
     ],
     "prompt_number": 8
    },
    {
     "cell_type": "code",
     "collapsed": false,
     "input": [
      "a, b, c = sy.Symbol('a'), sy.Symbol('b'), sy.Symbol('c')\n",
      "orientation1a = sy.Matrix([[sy.cos(phi2 + c), sy.sin(phi2 + c), 0], [-sy.sin(phi2 + c), sy.cos(phi2 + c), 0], [0, 0, 1]])\n",
      "orientation2b = sy.Matrix([ [1, 0, 0], [0, sy.cos(Phi + b), sy.sin(Phi + b)], [0, -sy.sin(Phi + b), sy.cos(Phi + b)]])\n",
      "orientation3c = sy.Matrix([[sy.cos(phi1 + a), sy.sin(phi1 + a), 0], [-sy.sin(phi1 + a), sy.cos(phi1 + a), 0], [0, 0, 1]])\n",
      "\n",
      "orientaiton_matrixabc = orientation1a * orientation2b * orientation3c"
     ],
     "language": "python",
     "metadata": {},
     "outputs": [],
     "prompt_number": 9
    },
    {
     "cell_type": "code",
     "collapsed": false,
     "input": [
      "cubic_sols = []\n",
      "for ii in range(cubic_sym.shape[-1]):\n",
      "    system = orientaiton_matrix * cubic_sym[..., ii] - orientaiton_matrixabc\n",
      "    sol = sy.solve(system, a, b, c)\n",
      "    cubic_sols.append(sy.simplify(sol[0]))"
     ],
     "language": "python",
     "metadata": {},
     "outputs": [],
     "prompt_number": 10
    },
    {
     "cell_type": "code",
     "collapsed": false,
     "input": [
      "# print cubic_sols\n",
      "print cubic_sols[0]\n",
      "print cubic_sols[1]\n",
      "cubic_sols[1][0].subs({Phi:0., phi2:0.})"
     ],
     "language": "python",
     "metadata": {},
     "outputs": [
      {
       "output_type": "stream",
       "stream": "stdout",
       "text": [
        "(-phi1 - asin(1.0*sin(phi1)), -Phi + acos(cos(Phi)), -phi2 - asin(1.0*sin(phi2)))\n",
        "(-phi1 + acos(-1.0*cos(phi1)), -Phi + acos(-cos(Phi)), -phi2 - asin(1.0*sin(phi2)))\n"
       ]
      },
      {
       "metadata": {},
       "output_type": "pyout",
       "prompt_number": 31,
       "text": [
        "-phi1 + acos(-1.0*cos(phi1))"
       ]
      }
     ],
     "prompt_number": 31
    },
    {
     "cell_type": "markdown",
     "metadata": {},
     "source": [
      "#Symmetrize GSH"
     ]
    },
    {
     "cell_type": "code",
     "collapsed": false,
     "input": [
      "# Initiate Solutions\n",
      "\n",
      "def symGSH(l):\n",
      "    init_val = 0\n",
      "    l_length = 2 * l + 1\n",
      "    solSubs = {phi1:init_val, Phi:init_val, phi2:init_val}\n",
      "    fSubs = {phi1:init_val, Phi:init_val, phi2:init_val}\n",
      "    nu = len(cubic_sols)\n",
      "    GSH_array = np.zeros((nu, l_length, l_length), dtype=complex)\n",
      "    tmp4 = np.zeros((nu, l_length, l_length), dtype=complex)\n",
      "    W = sy.Wild('w')\n",
      "    arcsubs = {sy.acos(sy.cos(Phi)):Phi, sy.asin(1.0*sy.sin(phi1)):phi1, sy.asin(1.0*sy.sin(phi2)):phi2}\n",
      "    \n",
      "    for sol in range(len(cubic_sols)):\n",
      "        solSubs[phi1], solSubs[Phi], solSubs[phi2] = cubic_sols[sol][0], cubic_sols[sol][1], cubic_sols[sol][2]\n",
      "        for n in range(-l,l+1):\n",
      "            for s in range(-l,l+1):\n",
      "                index = (sol, s+l, n+l)\n",
      "                tmp1 = GSH(l,s,n,phi1,Phi,phi2).subs(solSubs).subs(arcsubs)\n",
      "#                 tmp1 = sy.cancel((GSH(l,s,n,phi1,Phi,phi2).subs(solSubs)).rewrite(sy.exp))\n",
      "#                 tmp1 = GSH(l,s,n,phi1,Phi,phi2).subs(solSubs)\n",
      "                tmp2 = sy.simplify(sy.cancel(tmp1.rewrite(sy.exp)))\n",
      "                tmp3 = tmp2.subs(fSubs).evalf()\n",
      "#                 if not isinstance(tmp2, complex):\n",
      "#                 if tmp1 != 0:\n",
      "#                     print tmp1\n",
      "#                     print GSH(l,s,n,phi1,Phi,phi2).subs(solSubs)\n",
      "#                     print ''\n",
      "#                 print tmp3\n",
      "                tmp4[index] = tmp3\n",
      "#                 if isinstance(tmp2, (int, long, float, complex)):\n",
      "#                     tmp3[index] = tmp2.subs(fSubs).evalf()\n",
      "#                 else:\n",
      "#                     print tmp2\n",
      "#                     tmp3[index] = tmp2\n",
      "#                 if tmp2 != 0:\n",
      "#                     print tmp1\n",
      "#                     print ''\n",
      "#                 GSH_array[index] = (((GSH(l,s,n,phi1,Phi,phi2)).subs(solSubs)).subs(fSubs).evalf()) - sy.KroneckerDelta(s,n)\n",
      "#     return GSH_array.reshape(nu * l_length,l_length)\n",
      "    return tmp4.reshape(nu * l_length,l_length)"
     ],
     "language": "python",
     "metadata": {},
     "outputs": [],
     "prompt_number": 15
    },
    {
     "cell_type": "code",
     "collapsed": false,
     "input": [
      "X1 = 0.176776695296637*np.complex(0, 1)*(-sy.cos(Phi - sy.acos(sy.cos(Phi))) + 1)**(-0.5)\n",
      "X2 = (sy.cos(Phi - sy.acos(sy.cos(Phi))) - 1)\n",
      "X3 =(sy.cos(Phi - sy.acos(sy.cos(Phi))) + 1)**3.5\n",
      "X4 = X1*X2\n",
      "XX = X4.subs({sy.acos(sy.cos(Phi)):Phi, sy.asin(1.0*sy.sin(phi1)):phi1, sy.asin(1.0*sy.sin(phi2)):phi2})\n",
      "\n",
      "\n",
      "Y1 = sy.exp(-4.0*np.complex(0, 1)*(-phi1 - sy.asin(1.0*sy.sin(phi1))))*sy.exp(-3.0*np.complex(0, 1)*(-phi2 - sy.asin(1.0*sy.sin(phi2))))\n",
      "YY = Y1.subs({sy.acos(sy.cos(Phi)):Phi, sy.asin(1.0*sy.sin(phi1)):phi1, sy.asin(1.0*sy.sin(phi2)):phi2})\n",
      "\n",
      "print XX\n",
      "# print YY\n",
      "# ZZ = X1*X2\n",
      "# print ZZ\n",
      "# Z1 = ZZ.subs({sy.acos(sy.cos(Phi)):Phi, sy.asin(1.0*sy.sin(phi1)):phi1, sy.asin(1.0*sy.sin(phi2)):phi2})\n",
      "# print Z1"
     ],
     "language": "python",
     "metadata": {},
     "outputs": [
      {
       "output_type": "stream",
       "stream": "stdout",
       "text": [
        "nan\n"
       ]
      }
     ],
     "prompt_number": 16
    },
    {
     "cell_type": "code",
     "collapsed": false,
     "input": [
      "l = 4\n",
      "T = symGSH(l)\n",
      "# print T.shape\n",
      "# print T"
     ],
     "language": "python",
     "metadata": {},
     "outputs": [
      {
       "ename": "KeyboardInterrupt",
       "evalue": "",
       "output_type": "pyerr",
       "traceback": [
        "\u001b[1;31m---------------------------------------------------------------------------\u001b[0m\n\u001b[1;31mKeyboardInterrupt\u001b[0m                         Traceback (most recent call last)",
        "\u001b[1;32m<ipython-input-17-41d4cd7261dc>\u001b[0m in \u001b[0;36m<module>\u001b[1;34m()\u001b[0m\n\u001b[0;32m      1\u001b[0m \u001b[0ml\u001b[0m \u001b[1;33m=\u001b[0m \u001b[1;36m4\u001b[0m\u001b[1;33m\u001b[0m\u001b[0m\n\u001b[1;32m----> 2\u001b[1;33m \u001b[0mT\u001b[0m \u001b[1;33m=\u001b[0m \u001b[0msymGSH\u001b[0m\u001b[1;33m(\u001b[0m\u001b[0ml\u001b[0m\u001b[1;33m)\u001b[0m\u001b[1;33m\u001b[0m\u001b[0m\n\u001b[0m\u001b[0;32m      3\u001b[0m \u001b[1;31m# print T.shape\u001b[0m\u001b[1;33m\u001b[0m\u001b[1;33m\u001b[0m\u001b[0m\n\u001b[0;32m      4\u001b[0m \u001b[1;31m# print T\u001b[0m\u001b[1;33m\u001b[0m\u001b[1;33m\u001b[0m\u001b[0m\n",
        "\u001b[1;32m<ipython-input-15-761e51b9f9ef>\u001b[0m in \u001b[0;36msymGSH\u001b[1;34m(l)\u001b[0m\n\u001b[0;32m     20\u001b[0m \u001b[1;31m#                 tmp1 = sy.cancel((GSH(l,s,n,phi1,Phi,phi2).subs(solSubs)).rewrite(sy.exp))\u001b[0m\u001b[1;33m\u001b[0m\u001b[1;33m\u001b[0m\u001b[0m\n\u001b[0;32m     21\u001b[0m \u001b[1;31m#                 tmp1 = GSH(l,s,n,phi1,Phi,phi2).subs(solSubs)\u001b[0m\u001b[1;33m\u001b[0m\u001b[1;33m\u001b[0m\u001b[0m\n\u001b[1;32m---> 22\u001b[1;33m                 \u001b[0mtmp2\u001b[0m \u001b[1;33m=\u001b[0m \u001b[0msy\u001b[0m\u001b[1;33m.\u001b[0m\u001b[0msimplify\u001b[0m\u001b[1;33m(\u001b[0m\u001b[0msy\u001b[0m\u001b[1;33m.\u001b[0m\u001b[0mcancel\u001b[0m\u001b[1;33m(\u001b[0m\u001b[0mtmp1\u001b[0m\u001b[1;33m.\u001b[0m\u001b[0mrewrite\u001b[0m\u001b[1;33m(\u001b[0m\u001b[0msy\u001b[0m\u001b[1;33m.\u001b[0m\u001b[0mexp\u001b[0m\u001b[1;33m)\u001b[0m\u001b[1;33m)\u001b[0m\u001b[1;33m)\u001b[0m\u001b[1;33m\u001b[0m\u001b[0m\n\u001b[0m\u001b[0;32m     23\u001b[0m                 \u001b[0mtmp3\u001b[0m \u001b[1;33m=\u001b[0m \u001b[0mtmp2\u001b[0m\u001b[1;33m.\u001b[0m\u001b[0msubs\u001b[0m\u001b[1;33m(\u001b[0m\u001b[0mfSubs\u001b[0m\u001b[1;33m)\u001b[0m\u001b[1;33m.\u001b[0m\u001b[0mevalf\u001b[0m\u001b[1;33m(\u001b[0m\u001b[1;33m)\u001b[0m\u001b[1;33m\u001b[0m\u001b[0m\n\u001b[0;32m     24\u001b[0m \u001b[1;31m#                 if not isinstance(tmp2, complex):\u001b[0m\u001b[1;33m\u001b[0m\u001b[1;33m\u001b[0m\u001b[0m\n",
        "\u001b[1;32mc:\\Users\\dpatel73\\AppData\\Local\\Continuum\\Anaconda\\lib\\site-packages\\sympy\\simplify\\simplify.pyc\u001b[0m in \u001b[0;36msimplify\u001b[1;34m(expr, ratio, measure, fu)\u001b[0m\n\u001b[0;32m   3706\u001b[0m     if expr.has(C.TrigonometricFunction) and not fu or expr.has(\n\u001b[0;32m   3707\u001b[0m             C.HyperbolicFunction):\n\u001b[1;32m-> 3708\u001b[1;33m         \u001b[0mexpr\u001b[0m \u001b[1;33m=\u001b[0m \u001b[0mtrigsimp\u001b[0m\u001b[1;33m(\u001b[0m\u001b[0mexpr\u001b[0m\u001b[1;33m,\u001b[0m \u001b[0mdeep\u001b[0m\u001b[1;33m=\u001b[0m\u001b[0mTrue\u001b[0m\u001b[1;33m)\u001b[0m\u001b[1;33m\u001b[0m\u001b[0m\n\u001b[0m\u001b[0;32m   3709\u001b[0m \u001b[1;33m\u001b[0m\u001b[0m\n\u001b[0;32m   3710\u001b[0m     \u001b[1;32mif\u001b[0m \u001b[0mexpr\u001b[0m\u001b[1;33m.\u001b[0m\u001b[0mhas\u001b[0m\u001b[1;33m(\u001b[0m\u001b[0mC\u001b[0m\u001b[1;33m.\u001b[0m\u001b[0mlog\u001b[0m\u001b[1;33m)\u001b[0m\u001b[1;33m:\u001b[0m\u001b[1;33m\u001b[0m\u001b[0m\n",
        "\u001b[1;32mc:\\Users\\dpatel73\\AppData\\Local\\Continuum\\Anaconda\\lib\\site-packages\\sympy\\simplify\\simplify.pyc\u001b[0m in \u001b[0;36mtrigsimp\u001b[1;34m(expr, **opts)\u001b[0m\n\u001b[0;32m   1430\u001b[0m                    }[method]\n\u001b[0;32m   1431\u001b[0m \u001b[1;33m\u001b[0m\u001b[0m\n\u001b[1;32m-> 1432\u001b[1;33m     \u001b[1;32mreturn\u001b[0m \u001b[0mtrigsimpfunc\u001b[0m\u001b[1;33m(\u001b[0m\u001b[0mexpr\u001b[0m\u001b[1;33m)\u001b[0m\u001b[1;33m\u001b[0m\u001b[0m\n\u001b[0m\u001b[0;32m   1433\u001b[0m \u001b[1;33m\u001b[0m\u001b[0m\n\u001b[0;32m   1434\u001b[0m \u001b[1;33m\u001b[0m\u001b[0m\n",
        "\u001b[1;32mc:\\Users\\dpatel73\\AppData\\Local\\Continuum\\Anaconda\\lib\\site-packages\\sympy\\simplify\\simplify.pyc\u001b[0m in \u001b[0;36m<lambda>\u001b[1;34m(x)\u001b[0m\n\u001b[0;32m   1423\u001b[0m     trigsimpfunc = {\n\u001b[0;32m   1424\u001b[0m         \u001b[1;34m'fu'\u001b[0m\u001b[1;33m:\u001b[0m \u001b[1;33m(\u001b[0m\u001b[1;32mlambda\u001b[0m \u001b[0mx\u001b[0m\u001b[1;33m:\u001b[0m \u001b[0mfu\u001b[0m\u001b[1;33m(\u001b[0m\u001b[0mx\u001b[0m\u001b[1;33m,\u001b[0m \u001b[1;33m**\u001b[0m\u001b[0mopts\u001b[0m\u001b[1;33m)\u001b[0m\u001b[1;33m)\u001b[0m\u001b[1;33m,\u001b[0m\u001b[1;33m\u001b[0m\u001b[0m\n\u001b[1;32m-> 1425\u001b[1;33m         \u001b[1;34m'matching'\u001b[0m\u001b[1;33m:\u001b[0m \u001b[1;33m(\u001b[0m\u001b[1;32mlambda\u001b[0m \u001b[0mx\u001b[0m\u001b[1;33m:\u001b[0m \u001b[0mfutrig\u001b[0m\u001b[1;33m(\u001b[0m\u001b[0mx\u001b[0m\u001b[1;33m)\u001b[0m\u001b[1;33m)\u001b[0m\u001b[1;33m,\u001b[0m\u001b[1;33m\u001b[0m\u001b[0m\n\u001b[0m\u001b[0;32m   1426\u001b[0m         \u001b[1;34m'groebner'\u001b[0m\u001b[1;33m:\u001b[0m \u001b[1;33m(\u001b[0m\u001b[1;32mlambda\u001b[0m \u001b[0mx\u001b[0m\u001b[1;33m:\u001b[0m \u001b[0mgroebnersimp\u001b[0m\u001b[1;33m(\u001b[0m\u001b[0mx\u001b[0m\u001b[1;33m,\u001b[0m \u001b[1;33m**\u001b[0m\u001b[0mopts\u001b[0m\u001b[1;33m)\u001b[0m\u001b[1;33m)\u001b[0m\u001b[1;33m,\u001b[0m\u001b[1;33m\u001b[0m\u001b[0m\n\u001b[0;32m   1427\u001b[0m         'combined': (lambda x: futrig(groebnersimp(x,\n",
        "\u001b[1;32mc:\\Users\\dpatel73\\AppData\\Local\\Continuum\\Anaconda\\lib\\site-packages\\sympy\\simplify\\simplify.pyc\u001b[0m in \u001b[0;36mfutrig\u001b[1;34m(e, **kwargs)\u001b[0m\n\u001b[0;32m   4282\u001b[0m \u001b[1;33m\u001b[0m\u001b[0m\n\u001b[0;32m   4283\u001b[0m     \u001b[0mold\u001b[0m \u001b[1;33m=\u001b[0m \u001b[0me\u001b[0m\u001b[1;33m\u001b[0m\u001b[0m\n\u001b[1;32m-> 4284\u001b[1;33m     \u001b[0me\u001b[0m \u001b[1;33m=\u001b[0m \u001b[0mbottom_up\u001b[0m\u001b[1;33m(\u001b[0m\u001b[0me\u001b[0m\u001b[1;33m,\u001b[0m \u001b[1;32mlambda\u001b[0m \u001b[0mx\u001b[0m\u001b[1;33m:\u001b[0m \u001b[0m_futrig\u001b[0m\u001b[1;33m(\u001b[0m\u001b[0mx\u001b[0m\u001b[1;33m,\u001b[0m \u001b[1;33m**\u001b[0m\u001b[0mkwargs\u001b[0m\u001b[1;33m)\u001b[0m\u001b[1;33m)\u001b[0m\u001b[1;33m\u001b[0m\u001b[0m\n\u001b[0m\u001b[0;32m   4285\u001b[0m \u001b[1;33m\u001b[0m\u001b[0m\n\u001b[0;32m   4286\u001b[0m     \u001b[1;32mif\u001b[0m \u001b[0mkwargs\u001b[0m\u001b[1;33m.\u001b[0m\u001b[0mpop\u001b[0m\u001b[1;33m(\u001b[0m\u001b[1;34m'hyper'\u001b[0m\u001b[1;33m,\u001b[0m \u001b[0mTrue\u001b[0m\u001b[1;33m)\u001b[0m \u001b[1;32mand\u001b[0m \u001b[0me\u001b[0m\u001b[1;33m.\u001b[0m\u001b[0mhas\u001b[0m\u001b[1;33m(\u001b[0m\u001b[0mC\u001b[0m\u001b[1;33m.\u001b[0m\u001b[0mHyperbolicFunction\u001b[0m\u001b[1;33m)\u001b[0m\u001b[1;33m:\u001b[0m\u001b[1;33m\u001b[0m\u001b[0m\n",
        "\u001b[1;32mc:\\Users\\dpatel73\\AppData\\Local\\Continuum\\Anaconda\\lib\\site-packages\\sympy\\simplify\\simplify.pyc\u001b[0m in \u001b[0;36mbottom_up\u001b[1;34m(rv, F, atoms, nonbasic)\u001b[0m\n\u001b[0;32m   4057\u001b[0m             \u001b[1;32mif\u001b[0m \u001b[0margs\u001b[0m \u001b[1;33m!=\u001b[0m \u001b[0mrv\u001b[0m\u001b[1;33m.\u001b[0m\u001b[0margs\u001b[0m\u001b[1;33m:\u001b[0m\u001b[1;33m\u001b[0m\u001b[0m\n\u001b[0;32m   4058\u001b[0m                 \u001b[0mrv\u001b[0m \u001b[1;33m=\u001b[0m \u001b[0mrv\u001b[0m\u001b[1;33m.\u001b[0m\u001b[0mfunc\u001b[0m\u001b[1;33m(\u001b[0m\u001b[1;33m*\u001b[0m\u001b[0margs\u001b[0m\u001b[1;33m)\u001b[0m\u001b[1;33m\u001b[0m\u001b[0m\n\u001b[1;32m-> 4059\u001b[1;33m             \u001b[0mrv\u001b[0m \u001b[1;33m=\u001b[0m \u001b[0mF\u001b[0m\u001b[1;33m(\u001b[0m\u001b[0mrv\u001b[0m\u001b[1;33m)\u001b[0m\u001b[1;33m\u001b[0m\u001b[0m\n\u001b[0m\u001b[0;32m   4060\u001b[0m         \u001b[1;32melif\u001b[0m \u001b[0matoms\u001b[0m\u001b[1;33m:\u001b[0m\u001b[1;33m\u001b[0m\u001b[0m\n\u001b[0;32m   4061\u001b[0m             \u001b[0mrv\u001b[0m \u001b[1;33m=\u001b[0m \u001b[0mF\u001b[0m\u001b[1;33m(\u001b[0m\u001b[0mrv\u001b[0m\u001b[1;33m)\u001b[0m\u001b[1;33m\u001b[0m\u001b[0m\n",
        "\u001b[1;32mc:\\Users\\dpatel73\\AppData\\Local\\Continuum\\Anaconda\\lib\\site-packages\\sympy\\simplify\\simplify.pyc\u001b[0m in \u001b[0;36m<lambda>\u001b[1;34m(x)\u001b[0m\n\u001b[0;32m   4282\u001b[0m \u001b[1;33m\u001b[0m\u001b[0m\n\u001b[0;32m   4283\u001b[0m     \u001b[0mold\u001b[0m \u001b[1;33m=\u001b[0m \u001b[0me\u001b[0m\u001b[1;33m\u001b[0m\u001b[0m\n\u001b[1;32m-> 4284\u001b[1;33m     \u001b[0me\u001b[0m \u001b[1;33m=\u001b[0m \u001b[0mbottom_up\u001b[0m\u001b[1;33m(\u001b[0m\u001b[0me\u001b[0m\u001b[1;33m,\u001b[0m \u001b[1;32mlambda\u001b[0m \u001b[0mx\u001b[0m\u001b[1;33m:\u001b[0m \u001b[0m_futrig\u001b[0m\u001b[1;33m(\u001b[0m\u001b[0mx\u001b[0m\u001b[1;33m,\u001b[0m \u001b[1;33m**\u001b[0m\u001b[0mkwargs\u001b[0m\u001b[1;33m)\u001b[0m\u001b[1;33m)\u001b[0m\u001b[1;33m\u001b[0m\u001b[0m\n\u001b[0m\u001b[0;32m   4285\u001b[0m \u001b[1;33m\u001b[0m\u001b[0m\n\u001b[0;32m   4286\u001b[0m     \u001b[1;32mif\u001b[0m \u001b[0mkwargs\u001b[0m\u001b[1;33m.\u001b[0m\u001b[0mpop\u001b[0m\u001b[1;33m(\u001b[0m\u001b[1;34m'hyper'\u001b[0m\u001b[1;33m,\u001b[0m \u001b[0mTrue\u001b[0m\u001b[1;33m)\u001b[0m \u001b[1;32mand\u001b[0m \u001b[0me\u001b[0m\u001b[1;33m.\u001b[0m\u001b[0mhas\u001b[0m\u001b[1;33m(\u001b[0m\u001b[0mC\u001b[0m\u001b[1;33m.\u001b[0m\u001b[0mHyperbolicFunction\u001b[0m\u001b[1;33m)\u001b[0m\u001b[1;33m:\u001b[0m\u001b[1;33m\u001b[0m\u001b[0m\n",
        "\u001b[1;32mc:\\Users\\dpatel73\\AppData\\Local\\Continuum\\Anaconda\\lib\\site-packages\\sympy\\simplify\\simplify.pyc\u001b[0m in \u001b[0;36m_futrig\u001b[1;34m(e, **kwargs)\u001b[0m\n\u001b[0;32m   4352\u001b[0m             factor_terms, TR12(x), trigs)],  # expand tan of sum\n\u001b[0;32m   4353\u001b[0m         )]\n\u001b[1;32m-> 4354\u001b[1;33m     \u001b[0me\u001b[0m \u001b[1;33m=\u001b[0m \u001b[0mgreedy\u001b[0m\u001b[1;33m(\u001b[0m\u001b[0mtree\u001b[0m\u001b[1;33m,\u001b[0m \u001b[0mobjective\u001b[0m\u001b[1;33m=\u001b[0m\u001b[0mLops\u001b[0m\u001b[1;33m)\u001b[0m\u001b[1;33m(\u001b[0m\u001b[0me\u001b[0m\u001b[1;33m)\u001b[0m\u001b[1;33m\u001b[0m\u001b[0m\n\u001b[0m\u001b[0;32m   4355\u001b[0m \u001b[1;33m\u001b[0m\u001b[0m\n\u001b[0;32m   4356\u001b[0m     \u001b[1;32mreturn\u001b[0m \u001b[0mcoeff\u001b[0m\u001b[1;33m*\u001b[0m\u001b[0me\u001b[0m\u001b[1;33m\u001b[0m\u001b[0m\n",
        "\u001b[1;32mc:\\Users\\dpatel73\\AppData\\Local\\Continuum\\Anaconda\\lib\\site-packages\\sympy\\strategies\\core.pyc\u001b[0m in \u001b[0;36mminrule\u001b[1;34m(expr)\u001b[0m\n\u001b[0;32m    116\u001b[0m     \u001b[0mobjective\u001b[0m \u001b[1;33m=\u001b[0m \u001b[0mkwargs\u001b[0m\u001b[1;33m.\u001b[0m\u001b[0mget\u001b[0m\u001b[1;33m(\u001b[0m\u001b[1;34m'objective'\u001b[0m\u001b[1;33m,\u001b[0m \u001b[0midentity\u001b[0m\u001b[1;33m)\u001b[0m\u001b[1;33m\u001b[0m\u001b[0m\n\u001b[0;32m    117\u001b[0m     \u001b[1;32mdef\u001b[0m \u001b[0mminrule\u001b[0m\u001b[1;33m(\u001b[0m\u001b[0mexpr\u001b[0m\u001b[1;33m)\u001b[0m\u001b[1;33m:\u001b[0m\u001b[1;33m\u001b[0m\u001b[0m\n\u001b[1;32m--> 118\u001b[1;33m         \u001b[1;32mreturn\u001b[0m \u001b[0mmin\u001b[0m\u001b[1;33m(\u001b[0m\u001b[1;33m[\u001b[0m\u001b[0mrule\u001b[0m\u001b[1;33m(\u001b[0m\u001b[0mexpr\u001b[0m\u001b[1;33m)\u001b[0m \u001b[1;32mfor\u001b[0m \u001b[0mrule\u001b[0m \u001b[1;32min\u001b[0m \u001b[0mrules\u001b[0m\u001b[1;33m]\u001b[0m\u001b[1;33m,\u001b[0m \u001b[0mkey\u001b[0m\u001b[1;33m=\u001b[0m\u001b[0mobjective\u001b[0m\u001b[1;33m)\u001b[0m\u001b[1;33m\u001b[0m\u001b[0m\n\u001b[0m\u001b[0;32m    119\u001b[0m     \u001b[1;32mreturn\u001b[0m \u001b[0mminrule\u001b[0m\u001b[1;33m\u001b[0m\u001b[0m\n",
        "\u001b[1;32mc:\\Users\\dpatel73\\AppData\\Local\\Continuum\\Anaconda\\lib\\site-packages\\sympy\\strategies\\core.pyc\u001b[0m in \u001b[0;36mchain_rl\u001b[1;34m(expr)\u001b[0m\n\u001b[0;32m     43\u001b[0m     \u001b[1;32mdef\u001b[0m \u001b[0mchain_rl\u001b[0m\u001b[1;33m(\u001b[0m\u001b[0mexpr\u001b[0m\u001b[1;33m)\u001b[0m\u001b[1;33m:\u001b[0m\u001b[1;33m\u001b[0m\u001b[0m\n\u001b[0;32m     44\u001b[0m         \u001b[1;32mfor\u001b[0m \u001b[0mrule\u001b[0m \u001b[1;32min\u001b[0m \u001b[0mrules\u001b[0m\u001b[1;33m:\u001b[0m\u001b[1;33m\u001b[0m\u001b[0m\n\u001b[1;32m---> 45\u001b[1;33m             \u001b[0mexpr\u001b[0m \u001b[1;33m=\u001b[0m \u001b[0mrule\u001b[0m\u001b[1;33m(\u001b[0m\u001b[0mexpr\u001b[0m\u001b[1;33m)\u001b[0m\u001b[1;33m\u001b[0m\u001b[0m\n\u001b[0m\u001b[0;32m     46\u001b[0m         \u001b[1;32mreturn\u001b[0m \u001b[0mexpr\u001b[0m\u001b[1;33m\u001b[0m\u001b[0m\n\u001b[0;32m     47\u001b[0m     \u001b[1;32mreturn\u001b[0m \u001b[0mchain_rl\u001b[0m\u001b[1;33m\u001b[0m\u001b[0m\n",
        "\u001b[1;32mc:\\Users\\dpatel73\\AppData\\Local\\Continuum\\Anaconda\\lib\\site-packages\\sympy\\strategies\\core.pyc\u001b[0m in \u001b[0;36mminrule\u001b[1;34m(expr)\u001b[0m\n\u001b[0;32m    116\u001b[0m     \u001b[0mobjective\u001b[0m \u001b[1;33m=\u001b[0m \u001b[0mkwargs\u001b[0m\u001b[1;33m.\u001b[0m\u001b[0mget\u001b[0m\u001b[1;33m(\u001b[0m\u001b[1;34m'objective'\u001b[0m\u001b[1;33m,\u001b[0m \u001b[0midentity\u001b[0m\u001b[1;33m)\u001b[0m\u001b[1;33m\u001b[0m\u001b[0m\n\u001b[0;32m    117\u001b[0m     \u001b[1;32mdef\u001b[0m \u001b[0mminrule\u001b[0m\u001b[1;33m(\u001b[0m\u001b[0mexpr\u001b[0m\u001b[1;33m)\u001b[0m\u001b[1;33m:\u001b[0m\u001b[1;33m\u001b[0m\u001b[0m\n\u001b[1;32m--> 118\u001b[1;33m         \u001b[1;32mreturn\u001b[0m \u001b[0mmin\u001b[0m\u001b[1;33m(\u001b[0m\u001b[1;33m[\u001b[0m\u001b[0mrule\u001b[0m\u001b[1;33m(\u001b[0m\u001b[0mexpr\u001b[0m\u001b[1;33m)\u001b[0m \u001b[1;32mfor\u001b[0m \u001b[0mrule\u001b[0m \u001b[1;32min\u001b[0m \u001b[0mrules\u001b[0m\u001b[1;33m]\u001b[0m\u001b[1;33m,\u001b[0m \u001b[0mkey\u001b[0m\u001b[1;33m=\u001b[0m\u001b[0mobjective\u001b[0m\u001b[1;33m)\u001b[0m\u001b[1;33m\u001b[0m\u001b[0m\n\u001b[0m\u001b[0;32m    119\u001b[0m     \u001b[1;32mreturn\u001b[0m \u001b[0mminrule\u001b[0m\u001b[1;33m\u001b[0m\u001b[0m\n",
        "\u001b[1;32mc:\\Users\\dpatel73\\AppData\\Local\\Continuum\\Anaconda\\lib\\site-packages\\sympy\\simplify\\fu.pyc\u001b[0m in \u001b[0;36mTR8\u001b[1;34m(rv, first)\u001b[0m\n\u001b[0;32m    658\u001b[0m         \u001b[1;32mreturn\u001b[0m \u001b[0mTR8\u001b[0m\u001b[1;33m(\u001b[0m\u001b[0mexpand_mul\u001b[0m\u001b[1;33m(\u001b[0m\u001b[0mMul\u001b[0m\u001b[1;33m(\u001b[0m\u001b[1;33m*\u001b[0m\u001b[0margs\u001b[0m\u001b[1;33m)\u001b[0m\u001b[1;33m)\u001b[0m\u001b[1;33m)\u001b[0m\u001b[1;33m\u001b[0m\u001b[0m\n\u001b[0;32m    659\u001b[0m \u001b[1;33m\u001b[0m\u001b[0m\n\u001b[1;32m--> 660\u001b[1;33m     \u001b[1;32mreturn\u001b[0m \u001b[0mbottom_up\u001b[0m\u001b[1;33m(\u001b[0m\u001b[0mrv\u001b[0m\u001b[1;33m,\u001b[0m \u001b[0mf\u001b[0m\u001b[1;33m)\u001b[0m\u001b[1;33m\u001b[0m\u001b[0m\n\u001b[0m\u001b[0;32m    661\u001b[0m \u001b[1;33m\u001b[0m\u001b[0m\n\u001b[0;32m    662\u001b[0m \u001b[1;33m\u001b[0m\u001b[0m\n",
        "\u001b[1;32mc:\\Users\\dpatel73\\AppData\\Local\\Continuum\\Anaconda\\lib\\site-packages\\sympy\\simplify\\simplify.pyc\u001b[0m in \u001b[0;36mbottom_up\u001b[1;34m(rv, F, atoms, nonbasic)\u001b[0m\n\u001b[0;32m   4054\u001b[0m         \u001b[1;32mif\u001b[0m \u001b[0mrv\u001b[0m\u001b[1;33m.\u001b[0m\u001b[0margs\u001b[0m\u001b[1;33m:\u001b[0m\u001b[1;33m\u001b[0m\u001b[0m\n\u001b[0;32m   4055\u001b[0m             args = tuple([bottom_up(a, F, atoms, nonbasic)\n\u001b[1;32m-> 4056\u001b[1;33m                 for a in rv.args])\n\u001b[0m\u001b[0;32m   4057\u001b[0m             \u001b[1;32mif\u001b[0m \u001b[0margs\u001b[0m \u001b[1;33m!=\u001b[0m \u001b[0mrv\u001b[0m\u001b[1;33m.\u001b[0m\u001b[0margs\u001b[0m\u001b[1;33m:\u001b[0m\u001b[1;33m\u001b[0m\u001b[0m\n\u001b[0;32m   4058\u001b[0m                 \u001b[0mrv\u001b[0m \u001b[1;33m=\u001b[0m \u001b[0mrv\u001b[0m\u001b[1;33m.\u001b[0m\u001b[0mfunc\u001b[0m\u001b[1;33m(\u001b[0m\u001b[1;33m*\u001b[0m\u001b[0margs\u001b[0m\u001b[1;33m)\u001b[0m\u001b[1;33m\u001b[0m\u001b[0m\n",
        "\u001b[1;32mc:\\Users\\dpatel73\\AppData\\Local\\Continuum\\Anaconda\\lib\\site-packages\\sympy\\simplify\\simplify.pyc\u001b[0m in \u001b[0;36mbottom_up\u001b[1;34m(rv, F, atoms, nonbasic)\u001b[0m\n\u001b[0;32m   4054\u001b[0m         \u001b[1;32mif\u001b[0m \u001b[0mrv\u001b[0m\u001b[1;33m.\u001b[0m\u001b[0margs\u001b[0m\u001b[1;33m:\u001b[0m\u001b[1;33m\u001b[0m\u001b[0m\n\u001b[0;32m   4055\u001b[0m             args = tuple([bottom_up(a, F, atoms, nonbasic)\n\u001b[1;32m-> 4056\u001b[1;33m                 for a in rv.args])\n\u001b[0m\u001b[0;32m   4057\u001b[0m             \u001b[1;32mif\u001b[0m \u001b[0margs\u001b[0m \u001b[1;33m!=\u001b[0m \u001b[0mrv\u001b[0m\u001b[1;33m.\u001b[0m\u001b[0margs\u001b[0m\u001b[1;33m:\u001b[0m\u001b[1;33m\u001b[0m\u001b[0m\n\u001b[0;32m   4058\u001b[0m                 \u001b[0mrv\u001b[0m \u001b[1;33m=\u001b[0m \u001b[0mrv\u001b[0m\u001b[1;33m.\u001b[0m\u001b[0mfunc\u001b[0m\u001b[1;33m(\u001b[0m\u001b[1;33m*\u001b[0m\u001b[0margs\u001b[0m\u001b[1;33m)\u001b[0m\u001b[1;33m\u001b[0m\u001b[0m\n",
        "\u001b[1;32mc:\\Users\\dpatel73\\AppData\\Local\\Continuum\\Anaconda\\lib\\site-packages\\sympy\\simplify\\simplify.pyc\u001b[0m in \u001b[0;36mbottom_up\u001b[1;34m(rv, F, atoms, nonbasic)\u001b[0m\n\u001b[0;32m   4054\u001b[0m         \u001b[1;32mif\u001b[0m \u001b[0mrv\u001b[0m\u001b[1;33m.\u001b[0m\u001b[0margs\u001b[0m\u001b[1;33m:\u001b[0m\u001b[1;33m\u001b[0m\u001b[0m\n\u001b[0;32m   4055\u001b[0m             args = tuple([bottom_up(a, F, atoms, nonbasic)\n\u001b[1;32m-> 4056\u001b[1;33m                 for a in rv.args])\n\u001b[0m\u001b[0;32m   4057\u001b[0m             \u001b[1;32mif\u001b[0m \u001b[0margs\u001b[0m \u001b[1;33m!=\u001b[0m \u001b[0mrv\u001b[0m\u001b[1;33m.\u001b[0m\u001b[0margs\u001b[0m\u001b[1;33m:\u001b[0m\u001b[1;33m\u001b[0m\u001b[0m\n\u001b[0;32m   4058\u001b[0m                 \u001b[0mrv\u001b[0m \u001b[1;33m=\u001b[0m \u001b[0mrv\u001b[0m\u001b[1;33m.\u001b[0m\u001b[0mfunc\u001b[0m\u001b[1;33m(\u001b[0m\u001b[1;33m*\u001b[0m\u001b[0margs\u001b[0m\u001b[1;33m)\u001b[0m\u001b[1;33m\u001b[0m\u001b[0m\n",
        "\u001b[1;32mc:\\Users\\dpatel73\\AppData\\Local\\Continuum\\Anaconda\\lib\\site-packages\\sympy\\simplify\\simplify.pyc\u001b[0m in \u001b[0;36mbottom_up\u001b[1;34m(rv, F, atoms, nonbasic)\u001b[0m\n\u001b[0;32m   4054\u001b[0m         \u001b[1;32mif\u001b[0m \u001b[0mrv\u001b[0m\u001b[1;33m.\u001b[0m\u001b[0margs\u001b[0m\u001b[1;33m:\u001b[0m\u001b[1;33m\u001b[0m\u001b[0m\n\u001b[0;32m   4055\u001b[0m             args = tuple([bottom_up(a, F, atoms, nonbasic)\n\u001b[1;32m-> 4056\u001b[1;33m                 for a in rv.args])\n\u001b[0m\u001b[0;32m   4057\u001b[0m             \u001b[1;32mif\u001b[0m \u001b[0margs\u001b[0m \u001b[1;33m!=\u001b[0m \u001b[0mrv\u001b[0m\u001b[1;33m.\u001b[0m\u001b[0margs\u001b[0m\u001b[1;33m:\u001b[0m\u001b[1;33m\u001b[0m\u001b[0m\n\u001b[0;32m   4058\u001b[0m                 \u001b[0mrv\u001b[0m \u001b[1;33m=\u001b[0m \u001b[0mrv\u001b[0m\u001b[1;33m.\u001b[0m\u001b[0mfunc\u001b[0m\u001b[1;33m(\u001b[0m\u001b[1;33m*\u001b[0m\u001b[0margs\u001b[0m\u001b[1;33m)\u001b[0m\u001b[1;33m\u001b[0m\u001b[0m\n",
        "\u001b[1;32mc:\\Users\\dpatel73\\AppData\\Local\\Continuum\\Anaconda\\lib\\site-packages\\sympy\\simplify\\simplify.pyc\u001b[0m in \u001b[0;36mbottom_up\u001b[1;34m(rv, F, atoms, nonbasic)\u001b[0m\n\u001b[0;32m   4054\u001b[0m         \u001b[1;32mif\u001b[0m \u001b[0mrv\u001b[0m\u001b[1;33m.\u001b[0m\u001b[0margs\u001b[0m\u001b[1;33m:\u001b[0m\u001b[1;33m\u001b[0m\u001b[0m\n\u001b[0;32m   4055\u001b[0m             args = tuple([bottom_up(a, F, atoms, nonbasic)\n\u001b[1;32m-> 4056\u001b[1;33m                 for a in rv.args])\n\u001b[0m\u001b[0;32m   4057\u001b[0m             \u001b[1;32mif\u001b[0m \u001b[0margs\u001b[0m \u001b[1;33m!=\u001b[0m \u001b[0mrv\u001b[0m\u001b[1;33m.\u001b[0m\u001b[0margs\u001b[0m\u001b[1;33m:\u001b[0m\u001b[1;33m\u001b[0m\u001b[0m\n\u001b[0;32m   4058\u001b[0m                 \u001b[0mrv\u001b[0m \u001b[1;33m=\u001b[0m \u001b[0mrv\u001b[0m\u001b[1;33m.\u001b[0m\u001b[0mfunc\u001b[0m\u001b[1;33m(\u001b[0m\u001b[1;33m*\u001b[0m\u001b[0margs\u001b[0m\u001b[1;33m)\u001b[0m\u001b[1;33m\u001b[0m\u001b[0m\n",
        "\u001b[1;32mc:\\Users\\dpatel73\\AppData\\Local\\Continuum\\Anaconda\\lib\\site-packages\\sympy\\simplify\\simplify.pyc\u001b[0m in \u001b[0;36mbottom_up\u001b[1;34m(rv, F, atoms, nonbasic)\u001b[0m\n\u001b[0;32m   4054\u001b[0m         \u001b[1;32mif\u001b[0m \u001b[0mrv\u001b[0m\u001b[1;33m.\u001b[0m\u001b[0margs\u001b[0m\u001b[1;33m:\u001b[0m\u001b[1;33m\u001b[0m\u001b[0m\n\u001b[0;32m   4055\u001b[0m             args = tuple([bottom_up(a, F, atoms, nonbasic)\n\u001b[1;32m-> 4056\u001b[1;33m                 for a in rv.args])\n\u001b[0m\u001b[0;32m   4057\u001b[0m             \u001b[1;32mif\u001b[0m \u001b[0margs\u001b[0m \u001b[1;33m!=\u001b[0m \u001b[0mrv\u001b[0m\u001b[1;33m.\u001b[0m\u001b[0margs\u001b[0m\u001b[1;33m:\u001b[0m\u001b[1;33m\u001b[0m\u001b[0m\n\u001b[0;32m   4058\u001b[0m                 \u001b[0mrv\u001b[0m \u001b[1;33m=\u001b[0m \u001b[0mrv\u001b[0m\u001b[1;33m.\u001b[0m\u001b[0mfunc\u001b[0m\u001b[1;33m(\u001b[0m\u001b[1;33m*\u001b[0m\u001b[0margs\u001b[0m\u001b[1;33m)\u001b[0m\u001b[1;33m\u001b[0m\u001b[0m\n",
        "\u001b[1;32mc:\\Users\\dpatel73\\AppData\\Local\\Continuum\\Anaconda\\lib\\site-packages\\sympy\\simplify\\simplify.pyc\u001b[0m in \u001b[0;36mbottom_up\u001b[1;34m(rv, F, atoms, nonbasic)\u001b[0m\n\u001b[0;32m   4054\u001b[0m         \u001b[1;32mif\u001b[0m \u001b[0mrv\u001b[0m\u001b[1;33m.\u001b[0m\u001b[0margs\u001b[0m\u001b[1;33m:\u001b[0m\u001b[1;33m\u001b[0m\u001b[0m\n\u001b[0;32m   4055\u001b[0m             args = tuple([bottom_up(a, F, atoms, nonbasic)\n\u001b[1;32m-> 4056\u001b[1;33m                 for a in rv.args])\n\u001b[0m\u001b[0;32m   4057\u001b[0m             \u001b[1;32mif\u001b[0m \u001b[0margs\u001b[0m \u001b[1;33m!=\u001b[0m \u001b[0mrv\u001b[0m\u001b[1;33m.\u001b[0m\u001b[0margs\u001b[0m\u001b[1;33m:\u001b[0m\u001b[1;33m\u001b[0m\u001b[0m\n\u001b[0;32m   4058\u001b[0m                 \u001b[0mrv\u001b[0m \u001b[1;33m=\u001b[0m \u001b[0mrv\u001b[0m\u001b[1;33m.\u001b[0m\u001b[0mfunc\u001b[0m\u001b[1;33m(\u001b[0m\u001b[1;33m*\u001b[0m\u001b[0margs\u001b[0m\u001b[1;33m)\u001b[0m\u001b[1;33m\u001b[0m\u001b[0m\n",
        "\u001b[1;32mc:\\Users\\dpatel73\\AppData\\Local\\Continuum\\Anaconda\\lib\\site-packages\\sympy\\simplify\\simplify.pyc\u001b[0m in \u001b[0;36mbottom_up\u001b[1;34m(rv, F, atoms, nonbasic)\u001b[0m\n\u001b[0;32m   4054\u001b[0m         \u001b[1;32mif\u001b[0m \u001b[0mrv\u001b[0m\u001b[1;33m.\u001b[0m\u001b[0margs\u001b[0m\u001b[1;33m:\u001b[0m\u001b[1;33m\u001b[0m\u001b[0m\n\u001b[0;32m   4055\u001b[0m             args = tuple([bottom_up(a, F, atoms, nonbasic)\n\u001b[1;32m-> 4056\u001b[1;33m                 for a in rv.args])\n\u001b[0m\u001b[0;32m   4057\u001b[0m             \u001b[1;32mif\u001b[0m \u001b[0margs\u001b[0m \u001b[1;33m!=\u001b[0m \u001b[0mrv\u001b[0m\u001b[1;33m.\u001b[0m\u001b[0margs\u001b[0m\u001b[1;33m:\u001b[0m\u001b[1;33m\u001b[0m\u001b[0m\n\u001b[0;32m   4058\u001b[0m                 \u001b[0mrv\u001b[0m \u001b[1;33m=\u001b[0m \u001b[0mrv\u001b[0m\u001b[1;33m.\u001b[0m\u001b[0mfunc\u001b[0m\u001b[1;33m(\u001b[0m\u001b[1;33m*\u001b[0m\u001b[0margs\u001b[0m\u001b[1;33m)\u001b[0m\u001b[1;33m\u001b[0m\u001b[0m\n",
        "\u001b[1;32mc:\\Users\\dpatel73\\AppData\\Local\\Continuum\\Anaconda\\lib\\site-packages\\sympy\\core\\basic.pyc\u001b[0m in \u001b[0;36margs\u001b[1;34m(self)\u001b[0m\n\u001b[0;32m    728\u001b[0m         change the interface in the future if needed).\n\u001b[0;32m    729\u001b[0m         \"\"\"\n\u001b[1;32m--> 730\u001b[1;33m         \u001b[1;32mreturn\u001b[0m \u001b[0mself\u001b[0m\u001b[1;33m.\u001b[0m\u001b[0m_args\u001b[0m\u001b[1;33m\u001b[0m\u001b[0m\n\u001b[0m\u001b[0;32m    731\u001b[0m \u001b[1;33m\u001b[0m\u001b[0m\n\u001b[0;32m    732\u001b[0m     \u001b[1;33m@\u001b[0m\u001b[0mproperty\u001b[0m\u001b[1;33m\u001b[0m\u001b[0m\n",
        "\u001b[1;31mKeyboardInterrupt\u001b[0m: "
       ]
      }
     ],
     "prompt_number": 17
    },
    {
     "cell_type": "code",
     "collapsed": false,
     "input": [
      "np.set_printoptions(threshold='nan')\n",
      "print np.round(T)\n",
      "print T.shape\n",
      "len(cubic_sols)"
     ],
     "language": "python",
     "metadata": {},
     "outputs": []
    },
    {
     "cell_type": "code",
     "collapsed": false,
     "input": [
      "print np.round(T[9:, :9])"
     ],
     "language": "python",
     "metadata": {},
     "outputs": []
    },
    {
     "cell_type": "code",
     "collapsed": false,
     "input": [
      "a = T\n",
      "b = np.zeros((216,1))\n",
      "\n",
      "np.linalg.solve(a, b)"
     ],
     "language": "python",
     "metadata": {},
     "outputs": []
    }
   ],
   "metadata": {}
  }
 ]
}