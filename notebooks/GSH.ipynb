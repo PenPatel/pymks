{
 "metadata": {
  "name": "",
  "signature": "sha256:42faafa574fcf6527614986cf8e0f8e4f9da769687233694c7d4260b3df0938f"
 },
 "nbformat": 3,
 "nbformat_minor": 0,
 "worksheets": [
  {
   "cells": [
    {
     "cell_type": "code",
     "collapsed": false,
     "input": [
      "%matplotlib inline\n",
      "%load_ext autoreload\n",
      "%autoreload 2\n",
      "\n",
      "import numpy as np\n",
      "import matplotlib.pyplot as plt\n",
      "import sympy as sy"
     ],
     "language": "python",
     "metadata": {},
     "outputs": [],
     "prompt_number": 1
    },
    {
     "cell_type": "markdown",
     "metadata": {},
     "source": [
      "#Test sympy"
     ]
    },
    {
     "cell_type": "code",
     "collapsed": false,
     "input": [
      "M = sy.Matrix([[1, -1], [3, 4], [0, 2]]) \n",
      "print M"
     ],
     "language": "python",
     "metadata": {},
     "outputs": [
      {
       "output_type": "stream",
       "stream": "stdout",
       "text": [
        "Matrix([[1, -1], [3, 4], [0, 2]])\n"
       ]
      }
     ],
     "prompt_number": 2
    },
    {
     "cell_type": "code",
     "collapsed": false,
     "input": [
      "x, y, z = sy.Symbol('x'), sy.Symbol('y'), sy.Symbol('z')\n",
      "Msy = sy.Matrix([[4 * x, 3 * y], [3 * z * x, 4 * z], [0, 2 * x * y]]) \n",
      "print Msy"
     ],
     "language": "python",
     "metadata": {},
     "outputs": [
      {
       "output_type": "stream",
       "stream": "stdout",
       "text": [
        "Matrix([[4*x, 3*y], [3*x*z, 4*z], [0, 2*x*y]])\n"
       ]
      }
     ],
     "prompt_number": 3
    },
    {
     "cell_type": "code",
     "collapsed": false,
     "input": [
      "A = Msy * Msy.T\n",
      "B = sy.Matrix([[x, 0, 0], [0, y ** 2, 0], [0, 0, z * x]])\n",
      "C = sy.Matrix([[1, 0, 0], [0, - 2, 0], [0, 0, 3]])"
     ],
     "language": "python",
     "metadata": {},
     "outputs": [],
     "prompt_number": 4
    },
    {
     "cell_type": "code",
     "collapsed": false,
     "input": [
      "print sy.solve(B - C, x, y, z)"
     ],
     "language": "python",
     "metadata": {},
     "outputs": [
      {
       "output_type": "stream",
       "stream": "stdout",
       "text": [
        "[(1, -sqrt(2)*I, 3), (1, sqrt(2)*I, 3)]\n"
       ]
      }
     ],
     "prompt_number": 5
    },
    {
     "cell_type": "code",
     "collapsed": false,
     "input": [
      "D = sy.Matrix([[1, 0, 0], [1, 0, 0], [0, 0, 2 * 1]])\n",
      "print D"
     ],
     "language": "python",
     "metadata": {},
     "outputs": [
      {
       "output_type": "stream",
       "stream": "stdout",
       "text": [
        "Matrix([[1, 0, 0], [1, 0, 0], [0, 0, 2]])\n"
       ]
      }
     ],
     "prompt_number": 6
    },
    {
     "cell_type": "code",
     "collapsed": false,
     "input": [
      "sy.solve([x >= 0.5, x <= 3, x**2 - 1], x)"
     ],
     "language": "python",
     "metadata": {},
     "outputs": [
      {
       "metadata": {},
       "output_type": "pyout",
       "prompt_number": 7,
       "text": [
        "And(im(x) == 0, re(x) == 1.0)"
       ]
      }
     ],
     "prompt_number": 7
    },
    {
     "cell_type": "markdown",
     "metadata": {},
     "source": [
      "#GSH"
     ]
    },
    {
     "cell_type": "code",
     "collapsed": false,
     "input": [
      "phi1, Phi, phi2, m, n, l = sy.Symbol('phi1'), sy.Symbol('Phi'), sy.Symbol('phi2'), sy.Symbol('m'), sy.Symbol('n'), sy.Symbol('l')\n",
      "\n",
      "P = sy.Function('P')\n",
      "Q = P(l * m * n * Phi)\n",
      "\n",
      "#T = sy.Function('T')\n",
      "#T((-1))"
     ],
     "language": "python",
     "metadata": {},
     "outputs": [],
     "prompt_number": 8
    },
    {
     "cell_type": "code",
     "collapsed": false,
     "input": [
      "from sympy.utilities.lambdify import lambdify, implemented_function\n",
      "\n"
     ],
     "language": "python",
     "metadata": {},
     "outputs": [],
     "prompt_number": 9
    },
    {
     "cell_type": "code",
     "collapsed": false,
     "input": [
      "f = implemented_function(sy.Function('f'), lambda Phi, l, m, n: l * m * n * Phi)\n",
      "lam_f = lambdify((Phi, l, m , n), f(Phi, l, m , n))"
     ],
     "language": "python",
     "metadata": {},
     "outputs": [],
     "prompt_number": 10
    },
    {
     "cell_type": "code",
     "collapsed": false,
     "input": [
      "lam_f(1, 2, 5, 1)"
     ],
     "language": "python",
     "metadata": {},
     "outputs": [
      {
       "metadata": {},
       "output_type": "pyout",
       "prompt_number": 11,
       "text": [
        "10"
       ]
      }
     ],
     "prompt_number": 11
    },
    {
     "cell_type": "code",
     "collapsed": false,
     "input": [
      "import math\n",
      "def legnedre(l, m, n, Phi):\n",
      "    norm1 = (((-1) ** (l - m) * np.complex(0, 1) ** (n - m)) / ((2. ** l) * math.factorial(l - m)))\n",
      "    norm2 = math.sqrt(float(math.factorial(l - m) * math.factorial(l + n)) / float(math.factorial(l + m) * math.factorial(l - n)))\n",
      "    poly1 = (1. - sy.cos(Phi)) ** (-(n - m) / 2.) * (1. + sy.cos(Phi)) ** (-(n + m) / 2.)\n",
      "    poly2 = poly_diff(l, m, n, Phi)\n",
      "    return norm1 * norm2 * poly1 * poly2"
     ],
     "language": "python",
     "metadata": {},
     "outputs": [],
     "prompt_number": 27
    },
    {
     "cell_type": "code",
     "collapsed": false,
     "input": [
      "def poly_diff(l, m, n, Phi):\n",
      "    return sy.diff((1. - sy.cos(Phi)) ** (l-m) * (1. + sy.cos(Phi)) ** (l + m), sy.cos(Phi), (l - n))"
     ],
     "language": "python",
     "metadata": {},
     "outputs": [],
     "prompt_number": 28
    },
    {
     "cell_type": "code",
     "collapsed": false,
     "input": [
      "q1 = np.array([legnedre(0, 0, 0, Phi).subs(Phi, x).evalf() for x in np.arange(0, sy.pi, sy.pi / 10)])\n",
      "# q1 = np.array([sy.limit(legnedre(2, -2, 1, Phi), Phi, x) for x in np.arange(0, sy.pi, sy.pi / 10)])\n",
      "test_poly = - 1 / 2. * np.sqrt(3 / 2.) * (- sy.cos(Phi) ** 2 + 1)\n",
      "q2 = np.array([test_poly.subs(Phi, x).evalf() for x in np.arange(0, sy.pi, sy.pi / 10)])\n",
      "print q1\n",
      "# print q2\n",
      "print (q1 - q2)\n"
     ],
     "language": "python",
     "metadata": {},
     "outputs": [
      {
       "output_type": "stream",
       "stream": "stdout",
       "text": [
        "[1.00000000000000 1.00000000000000 1.00000000000000 1.00000000000000\n",
        " 1.00000000000000 1.00000000000000 1.00000000000000 1.00000000000000\n",
        " 1.00000000000000 1.00000000000000]\n",
        "[1.00000000000000 1.05847636416556 1.21156947308951 1.40080296260629\n",
        " 1.55389607153024 1.61237243569579 1.55389607153024 1.40080296260629\n",
        " 1.21156947308951 1.05847636416556]\n"
       ]
      }
     ],
     "prompt_number": 163
    },
    {
     "cell_type": "code",
     "collapsed": false,
     "input": [
      "poly_diff(1, 0, 0, Phi)"
     ],
     "language": "python",
     "metadata": {},
     "outputs": []
    },
    {
     "cell_type": "code",
     "collapsed": false,
     "input": [
      "float(math.factorial(1 - 1) * math.factorial(1 + 0)) / float((math.factorial(1 + 1) * math.factorial(1 - 0)))"
     ],
     "language": "python",
     "metadata": {},
     "outputs": []
    },
    {
     "cell_type": "code",
     "collapsed": false,
     "input": [],
     "language": "python",
     "metadata": {},
     "outputs": []
    }
   ],
   "metadata": {}
  }
 ]
}