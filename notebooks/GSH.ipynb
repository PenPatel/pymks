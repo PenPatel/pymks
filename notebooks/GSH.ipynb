{
 "metadata": {
  "name": "",
  "signature": "sha256:29db6c4f9fe9c1da47374233f44062bace36188d4b953e113124db28e5695ab7"
 },
 "nbformat": 3,
 "nbformat_minor": 0,
 "worksheets": [
  {
   "cells": [
    {
     "cell_type": "code",
     "collapsed": false,
     "input": [
      "%matplotlib inline\n",
      "%load_ext autoreload\n",
      "%autoreload 2\n",
      "\n",
      "import numpy as np\n",
      "import matplotlib.pyplot as plt\n",
      "import sympy as sy\n",
      "import math"
     ],
     "language": "python",
     "metadata": {},
     "outputs": [],
     "prompt_number": 1
    },
    {
     "cell_type": "markdown",
     "metadata": {},
     "source": [
      "#Bunge-Euler Legendre Polynomials"
     ]
    },
    {
     "cell_type": "code",
     "collapsed": false,
     "input": [
      "phi1, Phi, phi2, m, n, l = sy.Symbol('phi1'), sy.Symbol('Phi'), sy.Symbol('phi2'), sy.Symbol('m'), sy.Symbol('n'), sy.Symbol('l')"
     ],
     "language": "python",
     "metadata": {},
     "outputs": [],
     "prompt_number": 2
    },
    {
     "cell_type": "code",
     "collapsed": false,
     "input": [
      "def legendre(l, m, n, Phi):\n",
      "    norm1 = (((-1) ** (l - m) * np.complex(0, 1) ** (n - m)) / ((2. ** l) * math.factorial(l - m)))\n",
      "    norm2 = math.sqrt(float(math.factorial(l - m) * math.factorial(l + n)) / float(math.factorial(l + m) * math.factorial(l - n)))\n",
      "    poly1 = (1. - sy.cos(Phi)) ** (-(n - m) / 2.) * (1. + sy.cos(Phi)) ** (-(n + m) / 2.)\n",
      "    poly2 = sy.diff((1. - sy.cos(Phi)) ** (l-m) * (1. + sy.cos(Phi)) ** (l + m), sy.cos(Phi), (l - n))\n",
      "    return norm1 * norm2 * poly1 * poly2"
     ],
     "language": "python",
     "metadata": {},
     "outputs": [],
     "prompt_number": 3
    },
    {
     "cell_type": "code",
     "collapsed": false,
     "input": [
      "legendre(1, 0, 0, Phi)"
     ],
     "language": "python",
     "metadata": {},
     "outputs": [
      {
       "metadata": {},
       "output_type": "pyout",
       "prompt_number": 4,
       "text": [
        "1.0*cos(Phi)"
       ]
      }
     ],
     "prompt_number": 4
    },
    {
     "cell_type": "markdown",
     "metadata": {},
     "source": [
      "# GSH Functions"
     ]
    },
    {
     "cell_type": "code",
     "collapsed": false,
     "input": [
      "def GSH(l, m, n, ph1, Phi, ph2):\n",
      "    lg = legendre(l, m, n, Phi)\n",
      "    return sy.exp(np.complex(0, 1) * m * phi1) * lg * sy.exp(np.complex(0, 1) * n * phi2)"
     ],
     "language": "python",
     "metadata": {},
     "outputs": [],
     "prompt_number": 5
    },
    {
     "cell_type": "code",
     "collapsed": false,
     "input": [
      "GSH(1, 1, 1, phi1, Phi, phi2)"
     ],
     "language": "python",
     "metadata": {},
     "outputs": [
      {
       "metadata": {},
       "output_type": "pyout",
       "prompt_number": 6,
       "text": [
        "0.5*(cos(Phi) + 1.0)**1.0*exp(1.0*I*phi1)*exp(1.0*I*phi2)"
       ]
      }
     ],
     "prompt_number": 6
    },
    {
     "cell_type": "markdown",
     "metadata": {},
     "source": [
      "#Cubic Symmetries"
     ]
    },
    {
     "cell_type": "code",
     "collapsed": false,
     "input": [
      "cubic_sym = np.zeros((3, 3, 24))\n",
      "cubic_sym[:,:,0] = [[ 1, 0, 0], [ 0, 1, 0], [ 0, 0, 1]] \n",
      "cubic_sym[:,:,1] = [[ 1, 0, 0], [ 0,-1, 0], [ 0, 0,-1]] \n",
      "cubic_sym[:,:,2] = [[ 1, 0, 0], [ 0, 0,-1], [ 0, 1, 0]] \n",
      "cubic_sym[:,:,3] = [[ 1, 0, 0], [ 0, 0, 1], [ 0,-1, 0]]\n",
      "cubic_sym[:,:,4] = [[-1, 0, 0], [ 0, 1, 0], [ 0, 0,-1]] \n",
      "cubic_sym[:,:,5] = [[-1, 0, 0], [ 0,-1, 0], [ 0, 0, 1]]\n",
      "cubic_sym[:,:,6] = [[-1, 0, 0], [ 0, 0,-1], [ 0,-1, 0]] \n",
      "cubic_sym[:,:,7] = [[-1, 0, 0], [ 0, 0, 1], [ 0, 1, 0]]\n",
      "cubic_sym[:,:,8] = [[ 0, 1, 0], [-1, 0, 0], [ 0, 0, 1]]\n",
      "cubic_sym[:,:,9] = [[ 0, 1, 0], [ 0, 0,-1], [-1, 0, 0]] \n",
      "cubic_sym[:,:,10] =[[ 0, 1, 0], [ 1, 0, 0], [ 0, 0,-1]] \n",
      "cubic_sym[:,:,11] =[[ 0, 1, 0], [ 0, 0, 1], [ 1, 0, 0]]\n",
      "cubic_sym[:,:,12] =[[ 0,-1, 0], [ 1, 0, 0], [ 0, 0, 1]] \n",
      "cubic_sym[:,:,13] =[[ 0,-1, 0], [ 0, 0,-1], [ 1, 0, 0]] \n",
      "cubic_sym[:,:,14] =[[ 0,-1, 0], [-1, 0, 0], [ 0, 0,-1]]\n",
      "cubic_sym[:,:,15] =[[ 0,-1, 0], [ 0, 0, 1], [-1, 0, 0]]\n",
      "cubic_sym[:,:,16] =[[ 0, 0, 1], [ 0, 1, 0], [-1, 0, 0]] \n",
      "cubic_sym[:,:,17] =[[ 0, 0, 1], [ 1, 0, 0], [ 0, 1, 0]] \n",
      "cubic_sym[:,:,18] =[[ 0, 0, 1], [ 0,-1, 0], [ 1, 0, 0]] \n",
      "cubic_sym[:,:,19] =[[ 0, 0, 1], [-1, 0, 0], [ 0,-1, 0]]\n",
      "cubic_sym[:,:,20] =[[ 0, 0,-1], [ 0, 1, 0], [ 1, 0, 0]] \n",
      "cubic_sym[:,:,21] =[[ 0, 0,-1], [-1, 0, 0], [ 0, 1, 0]]\n",
      "cubic_sym[:,:,22] =[[ 0, 0,-1], [ 0,-1, 0], [-1, 0, 0]] \n",
      "cubic_sym[:,:,23] =[[ 0, 0,-1], [ 1, 0, 0], [ 0,-1, 0]]"
     ],
     "language": "python",
     "metadata": {},
     "outputs": [],
     "prompt_number": 7
    },
    {
     "cell_type": "markdown",
     "metadata": {},
     "source": [
      "# Hexagonal Symmetries"
     ]
    },
    {
     "cell_type": "code",
     "collapsed": false,
     "input": [
      "a = np.sqrt(3) / 2\n",
      "# a = sy.Symbol('a')\n",
      "hcp_sym = np.zeros((3, 3, 12))\n",
      "hcp_sym[..., 0] = [[ 1, 0, 0], [ 0, 1, 0], [ 0, 0, 1]]\n",
      "hcp_sym[..., 1] = [[-.5, a, 0], [-a,-.5, 0], [ 0, 0, 1]]\n",
      "hcp_sym[..., 2] = [[-.5,-a, 0], [ a,-.5, 0], [ 0, 0, 1]]\n",
      "hcp_sym[..., 3] = [[.5, a, 0], [-a,.5, 0], [ 0, 0, 1]]\n",
      "hcp_sym[..., 4] = [[.5,-a, 0], [a, .5, 0], [ 0, 0, 1]]\n",
      "hcp_sym[..., 5] = [[-1, 0, 0], [ 0,-1, 0], [ 0, 0, 1]]\n",
      "hcp_sym[..., 6] = [[-.5,-a, 0], [-a, .5, 0], [ 0, 0,-1]]\n",
      "hcp_sym[..., 7] = [[ 1, 0, 0], [ 0,-1, 0], [ 0, 0,-1]]\n",
      "hcp_sym[..., 8] = [[-.5, a, 0], [ a, .5, 0], [ 0, 0,-1]]\n",
      "hcp_sym[..., 9] = [[ .5, a, 0], [ a,-.5, 0], [ 0, 0,-1]]\n",
      "hcp_sym[..., 10] = [[-1, 0, 0], [ 0, 1, 0], [ 0, 0,-1]]\n",
      "hcp_sym[..., 11] = [[ .5,-a, 0], [-a,-.5, 0], [ 0, 0,-1]]"
     ],
     "language": "python",
     "metadata": {},
     "outputs": [],
     "prompt_number": 8
    },
    {
     "cell_type": "markdown",
     "metadata": {},
     "source": [
      "#Tetragonal Symmetries"
     ]
    },
    {
     "cell_type": "code",
     "collapsed": false,
     "input": [
      "tetrag_sym = np.zeros((3, 3, 8))\n",
      "tetrag_sym[..., 0] = [[ 1, 0, 0], [ 0, 1, 0], [ 0, 0, 1]]\n",
      "tetrag_sym[..., 1] = [[-1, 0, 0], [ 0, 1, 0], [ 0, 0,-1]]\n",
      "tetrag_sym[..., 2] = [[ 1, 0, 0], [ 0,-1, 0], [ 0, 0,-1]]\n",
      "tetrag_sym[..., 3] = [[-1, 0, 0], [ 0,-1, 0], [ 0, 0, 1]]\n",
      "tetrag_sym[..., 4] = [[ 0, 1, 0], [-1, 0, 0], [ 0, 0, 1]]\n",
      "tetrag_sym[..., 5] = [[ 0,-1, 0], [ 1, 0, 0], [ 0, 0, 1]]\n",
      "tetrag_sym[..., 6] = [[ 0, 1, 0], [ 1, 0, 0], [ 0, 0,-1]]\n",
      "tetrag_sym[..., 7] = [[ 0,-1, 0], [-1, 0, 0], [ 0, 0,-1]]"
     ],
     "language": "python",
     "metadata": {},
     "outputs": [],
     "prompt_number": 9
    },
    {
     "cell_type": "markdown",
     "metadata": {},
     "source": [
      "#Orientation Matrix for Bungee-Euler Representations"
     ]
    },
    {
     "cell_type": "code",
     "collapsed": false,
     "input": [
      "orientation1 = sy.Matrix([[sy.cos(phi2), sy.sin(phi2), 0], [-sy.sin(phi2), sy.cos(phi2), 0], [0, 0, 1]])\n",
      "orientation2 = sy.Matrix([ [1, 0, 0], [0, sy.cos(Phi), sy.sin(Phi)], [0, -sy.sin(Phi), sy.cos(Phi)]])\n",
      "orientation3 = sy.Matrix([[sy.cos(phi1), sy.sin(phi1), 0], [-sy.sin(phi1), sy.cos(phi1), 0], [0, 0, 1]])\n",
      "\n",
      "orientaiton_matrix = orientation1 * orientation2 * orientation3"
     ],
     "language": "python",
     "metadata": {},
     "outputs": [],
     "prompt_number": 15
    },
    {
     "cell_type": "code",
     "collapsed": false,
     "input": [
      "a, b, c = sy.Symbol('a'), sy.Symbol('b'), sy.Symbol('c')\n",
      "orientation1a = sy.Matrix([[sy.cos(phi2 + c), sy.sin(phi2 + c), 0], [-sy.sin(phi2 + c), sy.cos(phi2 + c), 0], [0, 0, 1]])\n",
      "orientation2b = sy.Matrix([ [1, 0, 0], [0, sy.cos(Phi + b), sy.sin(Phi + b)], [0, -sy.sin(Phi + b), sy.cos(Phi + b)]])\n",
      "orientation3c = sy.Matrix([[sy.cos(phi1 + a), sy.sin(phi1 + a), 0], [-sy.sin(phi1 + a), sy.cos(phi1 + a), 0], [0, 0, 1]])\n",
      "\n",
      "orientaiton_matrixabc = orientation1a * orientation2b * orientation3c"
     ],
     "language": "python",
     "metadata": {},
     "outputs": [],
     "prompt_number": 16
    },
    {
     "cell_type": "code",
     "collapsed": false,
     "input": [
      "cubic_sols = []\n",
      "for ii in range(24):\n",
      "    system = cubic_sym[..., ii] * orientaiton_matrix - orientaiton_matrixabc\n",
      "    sol = sy.solve(system, a, b, c)\n",
      "    cubic_sols.append(sy.simplify(sol[0]))"
     ],
     "language": "python",
     "metadata": {},
     "outputs": [],
     "prompt_number": 109
    },
    {
     "cell_type": "code",
     "collapsed": false,
     "input": [
      "print cubic_sols"
     ],
     "language": "python",
     "metadata": {},
     "outputs": [
      {
       "output_type": "stream",
       "stream": "stdout",
       "text": [
        "[(-phi1 - asin(1.0*sin(phi1)), -Phi + acos(cos(Phi)), -phi2 - asin(1.0*sin(phi2))), (-phi1 - asin(1.0*sin(phi1)), -Phi + acos(-cos(Phi)), -phi2 + acos(-1.0*cos(phi2))), (-phi1 - asin(1.0*sqrt(-(sin(phi1)*cos(Phi)*cos(phi2) + sin(phi2)*cos(phi1))**2/(sin(Phi)**2*cos(phi2)**2 - 1))), -Phi + acos(sin(Phi)*cos(phi2)), -phi2 + acos(-sqrt(-cos(Phi)**2/(sin(Phi)**2*cos(phi2)**2 - 1.0)))), (-phi1 + acos(-1.0*sqrt(-(sin(phi1)*sin(phi2) - cos(Phi)*cos(phi1)*cos(phi2))**2/(sin(Phi)**2*cos(phi2)**2 - 1))), -Phi + acos(-sin(Phi)*cos(phi2)), -phi2 + acos(-sqrt(-cos(Phi)**2/(sin(Phi)**2*cos(phi2)**2 - 1.0)))), (-phi1 - asin(1.0*sin(phi1)), -Phi + acos(-cos(Phi)), -phi2 - asin(1.0*sin(phi2))), (-phi1 - asin(1.0*sin(phi1)), -Phi + acos(cos(Phi)), -phi2 - asin(1.0*sin(phi2))), (-phi1 + acos(-1.0*sqrt(-(sin(phi1)*sin(phi2) - cos(Phi)*cos(phi1)*cos(phi2))**2/(sin(Phi)**2*cos(phi2)**2 - 1))), -Phi + acos(-sin(Phi)*cos(phi2)), -phi2 + acos(-sqrt(-cos(Phi)**2/(sin(Phi)**2*cos(phi2)**2 - 1.0)))), (-phi1 - asin(1.0*sqrt(-(sin(phi1)*cos(Phi)*cos(phi2) + sin(phi2)*cos(phi1))**2/(sin(Phi)**2*cos(phi2)**2 - 1))), -Phi + acos(sin(Phi)*cos(phi2)), -phi2 + acos(-sqrt(-cos(Phi)**2/(sin(Phi)**2*cos(phi2)**2 - 1.0)))), (-phi1 - asin(1.0*sin(phi1)), -Phi + acos(cos(Phi)), -phi2 + acos(-1.0*sin(phi2))), (-phi1 - asin(1.0*sqrt(-(sin(phi1)*sin(phi2)*cos(Phi) - cos(phi1)*cos(phi2))**2/(sin(Phi)**2*sin(phi2)**2 - 1))), -Phi + acos(-sin(Phi)*sin(phi2)), -phi2 + acos(-sqrt(-cos(Phi)**2/(sin(Phi)**2*sin(phi2)**2 - 1.0)))), (-phi1 - asin(1.0*sin(phi1)), -Phi + acos(-cos(Phi)), -phi2 + acos(-1.0*sin(phi2))), (-phi1 + acos(-1.0*sqrt(-(sin(phi1)*cos(phi2) + sin(phi2)*cos(Phi)*cos(phi1))**2/(sin(Phi)**2*sin(phi2)**2 - 1))), -Phi + acos(sin(Phi)*sin(phi2)), -phi2 + acos(-sqrt(-cos(Phi)**2/(sin(Phi)**2*sin(phi2)**2 - 1.0)))), (-phi1 - asin(1.0*sin(phi1)), -Phi + acos(cos(Phi)), -phi2 - asin(1.0*cos(phi2))), (-phi1 + acos(-1.0*sqrt(-(sin(phi1)*cos(phi2) + sin(phi2)*cos(Phi)*cos(phi1))**2/(sin(Phi)**2*sin(phi2)**2 - 1))), -Phi + acos(sin(Phi)*sin(phi2)), -phi2 + acos(-sqrt(-cos(Phi)**2/(sin(Phi)**2*sin(phi2)**2 - 1.0)))), (-phi1 - asin(1.0*sin(phi1)), -Phi + acos(-cos(Phi)), -phi2 + acos(-1.0*sin(phi2))), (-phi1 - asin(1.0*sqrt(-(sin(phi1)*sin(phi2)*cos(Phi) - cos(phi1)*cos(phi2))**2/(sin(Phi)**2*sin(phi2)**2 - 1))), -Phi + acos(-sin(Phi)*sin(phi2)), -phi2 + acos(-sqrt(-cos(Phi)**2/(sin(Phi)**2*sin(phi2)**2 - 1.0)))), (-phi1 - asin(1.0*sqrt(-(sin(phi1)*sin(phi2)*cos(Phi) - cos(phi1)*cos(phi2))**2/(sin(Phi)**2*sin(phi2)**2 - 1))), -Phi + acos(-sin(Phi)*sin(phi2)), -phi2 - asin(sqrt(-cos(Phi)**2/(sin(Phi)**2*sin(phi2)**2 - 1.0)))), (-phi1 - asin(1.0*sqrt(-(sin(phi1)*cos(Phi)*cos(phi2) + sin(phi2)*cos(phi1))**2/(sin(Phi)**2*cos(phi2)**2 - 1))), -Phi + acos(sin(Phi)*cos(phi2)), -phi2 - asin(sqrt(-cos(Phi)**2/(sin(Phi)**2*cos(phi2)**2 - 1.0)))), (-phi1 + acos(-1.0*sqrt(-(sin(phi1)*cos(phi2) + sin(phi2)*cos(Phi)*cos(phi1))**2/(sin(Phi)**2*sin(phi2)**2 - 1))), -Phi + acos(sin(Phi)*sin(phi2)), -phi2 - asin(sqrt(-cos(Phi)**2/(sin(Phi)**2*sin(phi2)**2 - 1.0)))), (-phi1 + acos(-1.0*sqrt(-(sin(phi1)*sin(phi2) - cos(Phi)*cos(phi1)*cos(phi2))**2/(sin(Phi)**2*cos(phi2)**2 - 1))), -Phi + acos(-sin(Phi)*cos(phi2)), -phi2 - asin(sqrt(-cos(Phi)**2/(sin(Phi)**2*cos(phi2)**2 - 1.0)))), (-phi1 + acos(-1.0*sqrt(-(sin(phi1)*cos(phi2) + sin(phi2)*cos(Phi)*cos(phi1))**2/(sin(Phi)**2*sin(phi2)**2 - 1))), -Phi + acos(sin(Phi)*sin(phi2)), -phi2 - asin(sqrt(-cos(Phi)**2/(sin(Phi)**2*sin(phi2)**2 - 1.0)))), (-phi1 - asin(1.0*sqrt(-(sin(phi1)*cos(Phi)*cos(phi2) + sin(phi2)*cos(phi1))**2/(sin(Phi)**2*cos(phi2)**2 - 1))), -Phi + acos(sin(Phi)*cos(phi2)), -phi2 - asin(sqrt(-cos(Phi)**2/(sin(Phi)**2*cos(phi2)**2 - 1.0)))), (-phi1 - asin(1.0*sqrt(-(sin(phi1)*sin(phi2)*cos(Phi) - cos(phi1)*cos(phi2))**2/(sin(Phi)**2*sin(phi2)**2 - 1))), -Phi + acos(-sin(Phi)*sin(phi2)), -phi2 - asin(sqrt(-cos(Phi)**2/(sin(Phi)**2*sin(phi2)**2 - 1.0)))), (-phi1 + acos(-1.0*sqrt(-(sin(phi1)*sin(phi2) - cos(Phi)*cos(phi1)*cos(phi2))**2/(sin(Phi)**2*cos(phi2)**2 - 1))), -Phi + acos(-sin(Phi)*cos(phi2)), -phi2 - asin(sqrt(-cos(Phi)**2/(sin(Phi)**2*cos(phi2)**2 - 1.0))))]\n"
       ]
      }
     ],
     "prompt_number": 110
    },
    {
     "cell_type": "code",
     "collapsed": false,
     "input": [],
     "language": "python",
     "metadata": {},
     "outputs": []
    }
   ],
   "metadata": {}
  }
 ]
}