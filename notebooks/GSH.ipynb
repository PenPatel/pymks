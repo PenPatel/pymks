{
 "metadata": {
  "name": "",
  "signature": "sha256:c91792327b84ab65491a662f90b76dced8173276a443ed4697a1519ff3850a55"
 },
 "nbformat": 3,
 "nbformat_minor": 0,
 "worksheets": [
  {
   "cells": [
    {
     "cell_type": "code",
     "collapsed": false,
     "input": [
      "%matplotlib inline\n",
      "%load_ext autoreload\n",
      "%autoreload 2\n",
      "\n",
      "import numpy as np\n",
      "import matplotlib.pyplot as plt\n",
      "import sympy as sy"
     ],
     "language": "python",
     "metadata": {},
     "outputs": [],
     "prompt_number": 1
    },
    {
     "cell_type": "markdown",
     "metadata": {},
     "source": [
      "#Bunge-Euler Legendre Polynomials"
     ]
    },
    {
     "cell_type": "code",
     "collapsed": false,
     "input": [
      "phi1, Phi, phi2, m, n, l = sy.Symbol('phi1'), sy.Symbol('Phi'), sy.Symbol('phi2'), sy.Symbol('m'), sy.Symbol('n'), sy.Symbol('l')\n",
      "\n",
      "P = sy.Function('P')\n",
      "Q = P(l * m * n * Phi)\n",
      "\n",
      "#T = sy.Function('T')\n",
      "#T((-1))"
     ],
     "language": "python",
     "metadata": {},
     "outputs": [],
     "prompt_number": 2
    },
    {
     "cell_type": "code",
     "collapsed": false,
     "input": [
      "from sympy.utilities.lambdify import lambdify, implemented_function\n",
      "\n"
     ],
     "language": "python",
     "metadata": {},
     "outputs": [],
     "prompt_number": 3
    },
    {
     "cell_type": "code",
     "collapsed": false,
     "input": [
      "f = implemented_function(sy.Function('f'), lambda Phi, l, m, n: l * m * n * Phi)\n",
      "lam_f = lambdify((Phi, l, m , n), f(Phi, l, m , n))"
     ],
     "language": "python",
     "metadata": {},
     "outputs": [],
     "prompt_number": 4
    },
    {
     "cell_type": "code",
     "collapsed": false,
     "input": [
      "lam_f(1, 2, 5, 1)"
     ],
     "language": "python",
     "metadata": {},
     "outputs": [
      {
       "metadata": {},
       "output_type": "pyout",
       "prompt_number": 5,
       "text": [
        "10"
       ]
      }
     ],
     "prompt_number": 5
    },
    {
     "cell_type": "code",
     "collapsed": false,
     "input": [
      "import math\n",
      "def legendre(l, m, n, Phi):\n",
      "    norm1 = (((-1) ** (l - m) * np.complex(0, 1) ** (n - m)) / ((2. ** l) * math.factorial(l - m)))\n",
      "    norm2 = math.sqrt(float(math.factorial(l - m) * math.factorial(l + n)) / float(math.factorial(l + m) * math.factorial(l - n)))\n",
      "    poly1 = (1. - sy.cos(Phi)) ** (-(n - m) / 2.) * (1. + sy.cos(Phi)) ** (-(n + m) / 2.)\n",
      "    poly2 = poly_diff(l, m, n, Phi)\n",
      "    return norm1 * norm2 * poly1 * poly2"
     ],
     "language": "python",
     "metadata": {},
     "outputs": [],
     "prompt_number": 6
    },
    {
     "cell_type": "code",
     "collapsed": false,
     "input": [
      "def poly_diff(l, m, n, Phi):\n",
      "    return sy.diff((1. - sy.cos(Phi)) ** (l-m) * (1. + sy.cos(Phi)) ** (l + m), sy.cos(Phi), (l - n))"
     ],
     "language": "python",
     "metadata": {},
     "outputs": [],
     "prompt_number": 7
    },
    {
     "cell_type": "code",
     "collapsed": false,
     "input": [
      "legendre(1, 0, 0, Phi)"
     ],
     "language": "python",
     "metadata": {},
     "outputs": [
      {
       "metadata": {},
       "output_type": "pyout",
       "prompt_number": 8,
       "text": [
        "1.0*cos(Phi)"
       ]
      }
     ],
     "prompt_number": 8
    },
    {
     "cell_type": "markdown",
     "metadata": {},
     "source": [
      "# GSH Functions"
     ]
    },
    {
     "cell_type": "code",
     "collapsed": false,
     "input": [
      "def GSH(l, m, n, ph1, Phi, ph2):\n",
      "    lg = legendre(l, m, n, Phi)\n",
      "    return sy.exp(np.complex(0, 1) * m * phi1) * lg * sy.exp(np.complex(0, 1) * n * phi2)"
     ],
     "language": "python",
     "metadata": {},
     "outputs": [],
     "prompt_number": 9
    },
    {
     "cell_type": "code",
     "collapsed": false,
     "input": [
      "GSH(1, 1, 1, phi1, Phi, phi2)"
     ],
     "language": "python",
     "metadata": {},
     "outputs": [
      {
       "metadata": {},
       "output_type": "pyout",
       "prompt_number": 13,
       "text": [
        "0.5*(cos(Phi) + 1.0)**1.0*exp(1.0*I*phi1)*exp(1.0*I*phi2)"
       ]
      }
     ],
     "prompt_number": 13
    },
    {
     "cell_type": "markdown",
     "metadata": {},
     "source": [
      "#Cubic Symmetries"
     ]
    },
    {
     "cell_type": "code",
     "collapsed": false,
     "input": [
      "cubic_sym = np.zeros(((3, 3, 24)))\n",
      "cubic_sym[:,:,0] = [[ 1, 0, 0], [ 0, 1, 0], [ 0, 0, 1]] \n",
      "cubic_sym[:,:,1] = [[ 1, 0, 0], [ 0,-1, 0], [ 0, 0,-1]] \n",
      "cubic_sym[:,:,2] = [[ 1, 0, 0], [ 0, 0,-1], [ 0, 1, 0]] \n",
      "cubic_sym[:,:,3] = [[ 1, 0, 0], [ 0, 0, 1], [ 0,-1, 0]]\n",
      "cubic_sym[:,:,4] = [[-1, 0, 0], [ 0, 1, 0], [ 0, 0,-1]] \n",
      "cubic_sym[:,:,5] = [[-1, 0, 0], [ 0,-1, 0], [ 0, 0, 1]]\n",
      "cubic_sym[:,:,6] = [[-1, 0, 0], [ 0, 0,-1], [ 0,-1, 0]] \n",
      "cubic_sym[:,:,7] = [[-1, 0, 0], [ 0, 0, 1], [ 0, 1, 0]]\n",
      "cubic_sym[:,:,8] = [[ 0, 1, 0], [-1, 0, 0], [ 0, 0, 1]]\n",
      "cubic_sym[:,:,9] =[[ 0, 1, 0], [ 0, 0,-1], [-1, 0, 0]] \n",
      "cubic_sym[:,:,10] =[[ 0, 1, 0], [ 1, 0, 0], [ 0, 0,-1]] \n",
      "cubic_sym[:,:,11] =[[ 0, 1, 0], [ 0, 0, 1], [ 1, 0, 0]]\n",
      "cubic_sym[:,:,12] =[[ 0,-1, 0], [ 1, 0, 0], [ 0, 0, 1]] \n",
      "cubic_sym[:,:,13] =[[ 0,-1, 0], [ 0, 0,-1], [ 1, 0, 0]] \n",
      "cubic_sym[:,:,14] =[[ 0,-1, 0], [-1, 0, 0], [ 0, 0,-1]]\n",
      "cubic_sym[:,:,15] =[[ 0,-1, 0], [ 0, 0, 1], [-1, 0, 0]]\n",
      "cubic_sym[:,:,16] =[[ 0, 0, 1], [ 0, 1, 0], [-1, 0, 0]] \n",
      "cubic_sym[:,:,17] =[[ 0, 0, 1], [ 1, 0, 0], [ 0, 1, 0]] \n",
      "cubic_sym[:,:,18] =[[ 0, 0, 1], [ 0,-1, 0], [ 1, 0, 0]] \n",
      "cubic_sym[:,:,19] =[[ 0, 0, 1], [-1, 0, 0], [ 0,-1, 0]]\n",
      "cubic_sym[:,:,20] =[[ 0, 0,-1], [ 0, 1, 0], [ 1, 0, 0]] \n",
      "cubic_sym[:,:,21] =[[ 0, 0,-1], [-1, 0, 0], [ 0, 1, 0]]\n",
      "cubic_sym[:,:,22] =[[ 0, 0,-1], [ 0,-1, 0], [-1, 0, 0]] \n",
      "cubic_sym[:,:,23] =[[ 0, 0,-1], [ 1, 0, 0], [ 0,-1, 0]]"
     ],
     "language": "python",
     "metadata": {},
     "outputs": [],
     "prompt_number": 32
    },
    {
     "cell_type": "code",
     "collapsed": false,
     "input": [
      "for ii in range(24):\n",
      "    print cubic_sym[..., ii]\n",
      "    print ''"
     ],
     "language": "python",
     "metadata": {},
     "outputs": [
      {
       "output_type": "stream",
       "stream": "stdout",
       "text": [
        "[[ 1.  0.  0.]\n",
        " [ 0.  1.  0.]\n",
        " [ 0.  0.  1.]]\n",
        "\n",
        "[[ 1.  0.  0.]\n",
        " [ 0. -1.  0.]\n",
        " [ 0.  0. -1.]]\n",
        "\n",
        "[[ 1.  0.  0.]\n",
        " [ 0.  0. -1.]\n",
        " [ 0.  1.  0.]]\n",
        "\n",
        "[[ 1.  0.  0.]\n",
        " [ 0.  0.  1.]\n",
        " [ 0. -1.  0.]]\n",
        "\n",
        "[[-1.  0.  0.]\n",
        " [ 0.  1.  0.]\n",
        " [ 0.  0. -1.]]\n",
        "\n",
        "[[-1.  0.  0.]\n",
        " [ 0. -1.  0.]\n",
        " [ 0.  0.  1.]]\n",
        "\n",
        "[[-1.  0.  0.]\n",
        " [ 0.  0. -1.]\n",
        " [ 0. -1.  0.]]\n",
        "\n",
        "[[-1.  0.  0.]\n",
        " [ 0.  0.  1.]\n",
        " [ 0.  1.  0.]]\n",
        "\n",
        "[[ 0.  1.  0.]\n",
        " [-1.  0.  0.]\n",
        " [ 0.  0.  1.]]\n",
        "\n",
        "[[ 0.  1.  0.]\n",
        " [ 0.  0. -1.]\n",
        " [-1.  0.  0.]]\n",
        "\n",
        "[[ 0.  1.  0.]\n",
        " [ 1.  0.  0.]\n",
        " [ 0.  0. -1.]]\n",
        "\n",
        "[[ 0.  1.  0.]\n",
        " [ 0.  0.  1.]\n",
        " [ 1.  0.  0.]]\n",
        "\n",
        "[[ 0. -1.  0.]\n",
        " [ 1.  0.  0.]\n",
        " [ 0.  0.  1.]]\n",
        "\n",
        "[[ 0. -1.  0.]\n",
        " [ 0.  0. -1.]\n",
        " [ 1.  0.  0.]]\n",
        "\n",
        "[[ 0. -1.  0.]\n",
        " [-1.  0.  0.]\n",
        " [ 0.  0. -1.]]\n",
        "\n",
        "[[ 0. -1.  0.]\n",
        " [ 0.  0.  1.]\n",
        " [-1.  0.  0.]]\n",
        "\n",
        "[[ 0.  0.  1.]\n",
        " [ 0.  1.  0.]\n",
        " [-1.  0.  0.]]\n",
        "\n",
        "[[ 0.  0.  1.]\n",
        " [ 1.  0.  0.]\n",
        " [ 0.  1.  0.]]\n",
        "\n",
        "[[ 0.  0.  1.]\n",
        " [ 0. -1.  0.]\n",
        " [ 1.  0.  0.]]\n",
        "\n",
        "[[ 0.  0.  1.]\n",
        " [-1.  0.  0.]\n",
        " [ 0. -1.  0.]]\n",
        "\n",
        "[[ 0.  0. -1.]\n",
        " [ 0.  1.  0.]\n",
        " [ 1.  0.  0.]]\n",
        "\n",
        "[[ 0.  0. -1.]\n",
        " [-1.  0.  0.]\n",
        " [ 0.  1.  0.]]\n",
        "\n",
        "[[ 0.  0. -1.]\n",
        " [ 0. -1.  0.]\n",
        " [-1.  0.  0.]]\n",
        "\n",
        "[[ 0.  0. -1.]\n",
        " [ 1.  0.  0.]\n",
        " [ 0. -1.  0.]]\n",
        "\n"
       ]
      }
     ],
     "prompt_number": 35
    },
    {
     "cell_type": "code",
     "collapsed": false,
     "input": [],
     "language": "python",
     "metadata": {},
     "outputs": []
    }
   ],
   "metadata": {}
  }
 ]
}